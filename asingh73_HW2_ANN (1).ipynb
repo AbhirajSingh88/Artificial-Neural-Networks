{
  "nbformat": 4,
  "nbformat_minor": 0,
  "metadata": {
    "colab": {
      "name": "asingh73_HW2_ANN",
      "provenance": [],
      "collapsed_sections": []
    },
    "kernelspec": {
      "name": "python3",
      "display_name": "Python 3"
    }
  },
  "cells": [
    {
      "cell_type": "markdown",
      "metadata": {
        "id": "KKM1gIx7pLS7"
      },
      "source": [
        "# ABHIRAJ SINGH HW-2 (CIS 731) "
      ]
    },
    {
      "cell_type": "markdown",
      "metadata": {
        "id": "nGxnXgl9pVmZ"
      },
      "source": [
        "DATASET DESCRIPTION: https://www.kaggle.com/hmavrodiev/london-bike-sharing-dataset#"
      ]
    },
    {
      "cell_type": "code",
      "metadata": {
        "id": "ZY4ASpEDpJFm"
      },
      "source": [
        "#import the libraries required for the tasks\n",
        "import seaborn as sns\n",
        "import pandas as pd\n",
        "import numpy as np\n",
        "import tensorflow as tf\n",
        "import keras\n",
        "from keras.models import Sequential\n",
        "from keras.layers import Dense\n",
        "import matplotlib.pyplot as plt\n",
        "from keras.callbacks import History\n",
        "from collections import Iterable\n",
        "from sklearn.model_selection import train_test_split\n",
        "from sklearn.preprocessing import StandardScaler\n",
        "import time\n",
        "from keras.layers import Dense, SimpleRNN\n",
        "from sklearn.preprocessing import MinMaxScaler"
      ],
      "execution_count": 65,
      "outputs": []
    },
    {
      "cell_type": "code",
      "metadata": {
        "id": "OtyKX7DsOEI7",
        "outputId": "0643c6c8-8506-41d2-ccf6-7c43baeb7540",
        "colab": {
          "base_uri": "https://localhost:8080/",
          "height": 241
        }
      },
      "source": [
        "#to load and run the dataset locally\n",
        " \n",
        "df = pd.read_csv('london_merged.csv',header=0, parse_dates=['timestamp'],index_col='timestamp')\n",
        "print(df.shape)\n",
        "df.head(5)"
      ],
      "execution_count": 33,
      "outputs": [
        {
          "output_type": "stream",
          "text": [
            "(17414, 9)\n"
          ],
          "name": "stdout"
        },
        {
          "output_type": "execute_result",
          "data": {
            "text/html": [
              "<div>\n",
              "<style scoped>\n",
              "    .dataframe tbody tr th:only-of-type {\n",
              "        vertical-align: middle;\n",
              "    }\n",
              "\n",
              "    .dataframe tbody tr th {\n",
              "        vertical-align: top;\n",
              "    }\n",
              "\n",
              "    .dataframe thead th {\n",
              "        text-align: right;\n",
              "    }\n",
              "</style>\n",
              "<table border=\"1\" class=\"dataframe\">\n",
              "  <thead>\n",
              "    <tr style=\"text-align: right;\">\n",
              "      <th></th>\n",
              "      <th>cnt</th>\n",
              "      <th>t1</th>\n",
              "      <th>t2</th>\n",
              "      <th>hum</th>\n",
              "      <th>wind_speed</th>\n",
              "      <th>weather_code</th>\n",
              "      <th>is_holiday</th>\n",
              "      <th>is_weekend</th>\n",
              "      <th>season</th>\n",
              "    </tr>\n",
              "    <tr>\n",
              "      <th>timestamp</th>\n",
              "      <th></th>\n",
              "      <th></th>\n",
              "      <th></th>\n",
              "      <th></th>\n",
              "      <th></th>\n",
              "      <th></th>\n",
              "      <th></th>\n",
              "      <th></th>\n",
              "      <th></th>\n",
              "    </tr>\n",
              "  </thead>\n",
              "  <tbody>\n",
              "    <tr>\n",
              "      <th>2015-01-04 00:00:00</th>\n",
              "      <td>182</td>\n",
              "      <td>3.0</td>\n",
              "      <td>2.0</td>\n",
              "      <td>93.0</td>\n",
              "      <td>6.0</td>\n",
              "      <td>3.0</td>\n",
              "      <td>0.0</td>\n",
              "      <td>1.0</td>\n",
              "      <td>3.0</td>\n",
              "    </tr>\n",
              "    <tr>\n",
              "      <th>2015-01-04 01:00:00</th>\n",
              "      <td>138</td>\n",
              "      <td>3.0</td>\n",
              "      <td>2.5</td>\n",
              "      <td>93.0</td>\n",
              "      <td>5.0</td>\n",
              "      <td>1.0</td>\n",
              "      <td>0.0</td>\n",
              "      <td>1.0</td>\n",
              "      <td>3.0</td>\n",
              "    </tr>\n",
              "    <tr>\n",
              "      <th>2015-01-04 02:00:00</th>\n",
              "      <td>134</td>\n",
              "      <td>2.5</td>\n",
              "      <td>2.5</td>\n",
              "      <td>96.5</td>\n",
              "      <td>0.0</td>\n",
              "      <td>1.0</td>\n",
              "      <td>0.0</td>\n",
              "      <td>1.0</td>\n",
              "      <td>3.0</td>\n",
              "    </tr>\n",
              "    <tr>\n",
              "      <th>2015-01-04 03:00:00</th>\n",
              "      <td>72</td>\n",
              "      <td>2.0</td>\n",
              "      <td>2.0</td>\n",
              "      <td>100.0</td>\n",
              "      <td>0.0</td>\n",
              "      <td>1.0</td>\n",
              "      <td>0.0</td>\n",
              "      <td>1.0</td>\n",
              "      <td>3.0</td>\n",
              "    </tr>\n",
              "    <tr>\n",
              "      <th>2015-01-04 04:00:00</th>\n",
              "      <td>47</td>\n",
              "      <td>2.0</td>\n",
              "      <td>0.0</td>\n",
              "      <td>93.0</td>\n",
              "      <td>6.5</td>\n",
              "      <td>1.0</td>\n",
              "      <td>0.0</td>\n",
              "      <td>1.0</td>\n",
              "      <td>3.0</td>\n",
              "    </tr>\n",
              "  </tbody>\n",
              "</table>\n",
              "</div>"
            ],
            "text/plain": [
              "                     cnt   t1   t2  ...  is_holiday  is_weekend  season\n",
              "timestamp                           ...                                \n",
              "2015-01-04 00:00:00  182  3.0  2.0  ...         0.0         1.0     3.0\n",
              "2015-01-04 01:00:00  138  3.0  2.5  ...         0.0         1.0     3.0\n",
              "2015-01-04 02:00:00  134  2.5  2.5  ...         0.0         1.0     3.0\n",
              "2015-01-04 03:00:00   72  2.0  2.0  ...         0.0         1.0     3.0\n",
              "2015-01-04 04:00:00   47  2.0  0.0  ...         0.0         1.0     3.0\n",
              "\n",
              "[5 rows x 9 columns]"
            ]
          },
          "metadata": {
            "tags": []
          },
          "execution_count": 33
        }
      ]
    },
    {
      "cell_type": "markdown",
      "metadata": {
        "id": "A7wK0RHsOOMr"
      },
      "source": [
        "# Data processinng and transformation"
      ]
    },
    {
      "cell_type": "code",
      "metadata": {
        "id": "CSKkZaDvOfjH",
        "outputId": "aec167fe-b031-498d-a86a-f946939a4747",
        "colab": {
          "base_uri": "https://localhost:8080/",
          "height": 241
        }
      },
      "source": [
        "\n",
        "df['hour'] = df.index.hour\n",
        "df['day_of_month'] = df.index.day\n",
        "df['day_of_week'] = df.index.dayofweek\n",
        "df['month'] = df.index.month\n",
        "\n",
        "print(df.shape)\n",
        "df.head()"
      ],
      "execution_count": 34,
      "outputs": [
        {
          "output_type": "stream",
          "text": [
            "(17414, 13)\n"
          ],
          "name": "stdout"
        },
        {
          "output_type": "execute_result",
          "data": {
            "text/html": [
              "<div>\n",
              "<style scoped>\n",
              "    .dataframe tbody tr th:only-of-type {\n",
              "        vertical-align: middle;\n",
              "    }\n",
              "\n",
              "    .dataframe tbody tr th {\n",
              "        vertical-align: top;\n",
              "    }\n",
              "\n",
              "    .dataframe thead th {\n",
              "        text-align: right;\n",
              "    }\n",
              "</style>\n",
              "<table border=\"1\" class=\"dataframe\">\n",
              "  <thead>\n",
              "    <tr style=\"text-align: right;\">\n",
              "      <th></th>\n",
              "      <th>cnt</th>\n",
              "      <th>t1</th>\n",
              "      <th>t2</th>\n",
              "      <th>hum</th>\n",
              "      <th>wind_speed</th>\n",
              "      <th>weather_code</th>\n",
              "      <th>is_holiday</th>\n",
              "      <th>is_weekend</th>\n",
              "      <th>season</th>\n",
              "      <th>hour</th>\n",
              "      <th>day_of_month</th>\n",
              "      <th>day_of_week</th>\n",
              "      <th>month</th>\n",
              "    </tr>\n",
              "    <tr>\n",
              "      <th>timestamp</th>\n",
              "      <th></th>\n",
              "      <th></th>\n",
              "      <th></th>\n",
              "      <th></th>\n",
              "      <th></th>\n",
              "      <th></th>\n",
              "      <th></th>\n",
              "      <th></th>\n",
              "      <th></th>\n",
              "      <th></th>\n",
              "      <th></th>\n",
              "      <th></th>\n",
              "      <th></th>\n",
              "    </tr>\n",
              "  </thead>\n",
              "  <tbody>\n",
              "    <tr>\n",
              "      <th>2015-01-04 00:00:00</th>\n",
              "      <td>182</td>\n",
              "      <td>3.0</td>\n",
              "      <td>2.0</td>\n",
              "      <td>93.0</td>\n",
              "      <td>6.0</td>\n",
              "      <td>3.0</td>\n",
              "      <td>0.0</td>\n",
              "      <td>1.0</td>\n",
              "      <td>3.0</td>\n",
              "      <td>0</td>\n",
              "      <td>4</td>\n",
              "      <td>6</td>\n",
              "      <td>1</td>\n",
              "    </tr>\n",
              "    <tr>\n",
              "      <th>2015-01-04 01:00:00</th>\n",
              "      <td>138</td>\n",
              "      <td>3.0</td>\n",
              "      <td>2.5</td>\n",
              "      <td>93.0</td>\n",
              "      <td>5.0</td>\n",
              "      <td>1.0</td>\n",
              "      <td>0.0</td>\n",
              "      <td>1.0</td>\n",
              "      <td>3.0</td>\n",
              "      <td>1</td>\n",
              "      <td>4</td>\n",
              "      <td>6</td>\n",
              "      <td>1</td>\n",
              "    </tr>\n",
              "    <tr>\n",
              "      <th>2015-01-04 02:00:00</th>\n",
              "      <td>134</td>\n",
              "      <td>2.5</td>\n",
              "      <td>2.5</td>\n",
              "      <td>96.5</td>\n",
              "      <td>0.0</td>\n",
              "      <td>1.0</td>\n",
              "      <td>0.0</td>\n",
              "      <td>1.0</td>\n",
              "      <td>3.0</td>\n",
              "      <td>2</td>\n",
              "      <td>4</td>\n",
              "      <td>6</td>\n",
              "      <td>1</td>\n",
              "    </tr>\n",
              "    <tr>\n",
              "      <th>2015-01-04 03:00:00</th>\n",
              "      <td>72</td>\n",
              "      <td>2.0</td>\n",
              "      <td>2.0</td>\n",
              "      <td>100.0</td>\n",
              "      <td>0.0</td>\n",
              "      <td>1.0</td>\n",
              "      <td>0.0</td>\n",
              "      <td>1.0</td>\n",
              "      <td>3.0</td>\n",
              "      <td>3</td>\n",
              "      <td>4</td>\n",
              "      <td>6</td>\n",
              "      <td>1</td>\n",
              "    </tr>\n",
              "    <tr>\n",
              "      <th>2015-01-04 04:00:00</th>\n",
              "      <td>47</td>\n",
              "      <td>2.0</td>\n",
              "      <td>0.0</td>\n",
              "      <td>93.0</td>\n",
              "      <td>6.5</td>\n",
              "      <td>1.0</td>\n",
              "      <td>0.0</td>\n",
              "      <td>1.0</td>\n",
              "      <td>3.0</td>\n",
              "      <td>4</td>\n",
              "      <td>4</td>\n",
              "      <td>6</td>\n",
              "      <td>1</td>\n",
              "    </tr>\n",
              "  </tbody>\n",
              "</table>\n",
              "</div>"
            ],
            "text/plain": [
              "                     cnt   t1   t2  ...  day_of_month  day_of_week  month\n",
              "timestamp                           ...                                  \n",
              "2015-01-04 00:00:00  182  3.0  2.0  ...             4            6      1\n",
              "2015-01-04 01:00:00  138  3.0  2.5  ...             4            6      1\n",
              "2015-01-04 02:00:00  134  2.5  2.5  ...             4            6      1\n",
              "2015-01-04 03:00:00   72  2.0  2.0  ...             4            6      1\n",
              "2015-01-04 04:00:00   47  2.0  0.0  ...             4            6      1\n",
              "\n",
              "[5 rows x 13 columns]"
            ]
          },
          "metadata": {
            "tags": []
          },
          "execution_count": 34
        }
      ]
    },
    {
      "cell_type": "code",
      "metadata": {
        "id": "n8UYY8lIOqWZ",
        "outputId": "a5572fdb-51c6-4a09-f848-a0161b8eb3f8",
        "colab": {
          "base_uri": "https://localhost:8080/",
          "height": 297
        }
      },
      "source": [
        "sns.lineplot(x=df.index, y=df.cnt,data=df)"
      ],
      "execution_count": 35,
      "outputs": [
        {
          "output_type": "execute_result",
          "data": {
            "text/plain": [
              "<matplotlib.axes._subplots.AxesSubplot at 0x7fe213b4f4e0>"
            ]
          },
          "metadata": {
            "tags": []
          },
          "execution_count": 35
        },
        {
          "output_type": "display_data",
          "data": {
            "image/png": "[encoded data removed]",
            "text/plain": [
              "<Figure size 432x288 with 1 Axes>"
            ]
          },
          "metadata": {
            "tags": [],
            "needs_background": "light"
          }
        }
      ]
    },
    {
      "cell_type": "code",
      "metadata": {
        "id": "BP7_oZa4RGR-"
      },
      "source": [
        "df_by_hour = df.resample('h').sum()"
      ],
      "execution_count": 36,
      "outputs": []
    },
    {
      "cell_type": "code",
      "metadata": {
        "id": "U48defyrToBy",
        "outputId": "611dcb02-c3a5-42b4-92cd-cc11d5f2a1ee",
        "colab": {
          "base_uri": "https://localhost:8080/",
          "height": 52
        }
      },
      "source": [
        "train_size = int(len(df)*0.8)\n",
        "test_size = len(df) - train_size\n",
        "\n",
        "train = df.iloc[0:train_size]\n",
        "test = df.iloc[train_size:len(df)]\n",
        "\n",
        "print(train.shape)\n",
        "print(test.shape)"
      ],
      "execution_count": 37,
      "outputs": [
        {
          "output_type": "stream",
          "text": [
            "(13931, 13)\n",
            "(3483, 13)\n"
          ],
          "name": "stdout"
        }
      ]
    },
    {
      "cell_type": "code",
      "metadata": {
        "id": "e89T1qbpxrnN",
        "outputId": "a2f2818f-c028-4180-90d2-8e69858ac7d8",
        "colab": {
          "base_uri": "https://localhost:8080/",
          "height": 35
        }
      },
      "source": [
        "df.shape"
      ],
      "execution_count": 38,
      "outputs": [
        {
          "output_type": "execute_result",
          "data": {
            "text/plain": [
              "(17414, 13)"
            ]
          },
          "metadata": {
            "tags": []
          },
          "execution_count": 38
        }
      ]
    },
    {
      "cell_type": "markdown",
      "metadata": {
        "id": "Puirx2f3VJJV"
      },
      "source": [
        "# Normalization of the dataset"
      ]
    },
    {
      "cell_type": "code",
      "metadata": {
        "id": "rxmR7M3wTxfF",
        "outputId": "324e2f0b-877d-4968-942f-115075b19c35",
        "colab": {
          "base_uri": "https://localhost:8080/",
          "height": 444
        }
      },
      "source": [
        "f_columns = ['t1', 't2', 'hum', 'wind_speed']\n",
        "\n",
        "f_transformer = MinMaxScaler()\n",
        "\n",
        "f_transformer = f_transformer.fit(train[f_columns].to_numpy())\n",
        "\n",
        "train.loc[:, f_columns] = f_transformer.transform(train[f_columns].to_numpy())\n",
        "test.loc[:, f_columns] = f_transformer.transform(test[f_columns].to_numpy())\n",
        "\n",
        "cnt_transformer = MinMaxScaler()\n",
        "cnt_transformer = cnt_transformer.fit(train[['cnt']])\n",
        "train['cnt'] = cnt_transformer.transform(train[['cnt']])\n",
        "test['cnt'] = cnt_transformer.transform(test[['cnt']])"
      ],
      "execution_count": 39,
      "outputs": [
        {
          "output_type": "stream",
          "text": [
            "/usr/local/lib/python3.6/dist-packages/pandas/core/indexing.py:1736: SettingWithCopyWarning: \n",
            "A value is trying to be set on a copy of a slice from a DataFrame.\n",
            "Try using .loc[row_indexer,col_indexer] = value instead\n",
            "\n",
            "See the caveats in the documentation: https://pandas.pydata.org/pandas-docs/stable/user_guide/indexing.html#returning-a-view-versus-a-copy\n",
            "  isetter(loc, value[:, i].tolist())\n",
            "/usr/local/lib/python3.6/dist-packages/pandas/core/indexing.py:1736: SettingWithCopyWarning: \n",
            "A value is trying to be set on a copy of a slice from a DataFrame.\n",
            "Try using .loc[row_indexer,col_indexer] = value instead\n",
            "\n",
            "See the caveats in the documentation: https://pandas.pydata.org/pandas-docs/stable/user_guide/indexing.html#returning-a-view-versus-a-copy\n",
            "  isetter(loc, value[:, i].tolist())\n",
            "/usr/local/lib/python3.6/dist-packages/ipykernel_launcher.py:12: SettingWithCopyWarning: \n",
            "A value is trying to be set on a copy of a slice from a DataFrame.\n",
            "Try using .loc[row_indexer,col_indexer] = value instead\n",
            "\n",
            "See the caveats in the documentation: https://pandas.pydata.org/pandas-docs/stable/user_guide/indexing.html#returning-a-view-versus-a-copy\n",
            "  if sys.path[0] == '':\n",
            "/usr/local/lib/python3.6/dist-packages/ipykernel_launcher.py:13: SettingWithCopyWarning: \n",
            "A value is trying to be set on a copy of a slice from a DataFrame.\n",
            "Try using .loc[row_indexer,col_indexer] = value instead\n",
            "\n",
            "See the caveats in the documentation: https://pandas.pydata.org/pandas-docs/stable/user_guide/indexing.html#returning-a-view-versus-a-copy\n",
            "  del sys.path[0]\n"
          ],
          "name": "stderr"
        }
      ]
    },
    {
      "cell_type": "code",
      "metadata": {
        "id": "y8QvvbApYqrT"
      },
      "source": [
        "#create subset of the dataset for the time series analysis\n",
        "\n",
        "def dataset(x,y,time_steps=1):\n",
        "  xs, ys = [], []\n",
        "  for i in range(len(x) - time_steps):\n",
        "    v = x.iloc[i : (i+time_steps)].to_numpy()\n",
        "    xs.append(v)\n",
        "    ys.append(y.iloc[i+time_steps])\n",
        "  return np.array(xs), np.array(ys)\n"
      ],
      "execution_count": 40,
      "outputs": []
    },
    {
      "cell_type": "code",
      "metadata": {
        "id": "Bi7gRUIsa1NR"
      },
      "source": [
        "TIME_STEPS = 24\n",
        "\n",
        "x_train, y_train = dataset(train, train.cnt, time_steps = TIME_STEPS)\n",
        "x_test, y_test = dataset(test, test.cnt, time_steps = TIME_STEPS)"
      ],
      "execution_count": 41,
      "outputs": []
    },
    {
      "cell_type": "code",
      "metadata": {
        "id": "b-yh0TkrbYYy",
        "outputId": "12b0fd82-c0b8-4df8-ed28-064a75c7f430",
        "colab": {
          "base_uri": "https://localhost:8080/",
          "height": 52
        }
      },
      "source": [
        "#samples, timesteps, features\n",
        "print(x_train.shape, y_train.shape)\n",
        "print(x_test.shape, y_test.shape)"
      ],
      "execution_count": 42,
      "outputs": [
        {
          "output_type": "stream",
          "text": [
            "(13907, 24, 13) (13907,)\n",
            "(3459, 24, 13) (3459,)\n"
          ],
          "name": "stdout"
        }
      ]
    },
    {
      "cell_type": "code",
      "metadata": {
        "id": "cg-kpAXGj82l"
      },
      "source": [
        "#create a timehistory class to get a time for building a network\n",
        "class TimeHistory(keras.callbacks.Callback):\n",
        "    def on_train_begin(self, logs={}):\n",
        "        self.times = []\n",
        "\n",
        "    def on_epoch_begin(self, batch, logs={}):\n",
        "        self.epoch_time_start = time.time()\n",
        "\n",
        "    def on_epoch_end(self, batch, logs={}):\n",
        "        self.times.append(time.time() - self.epoch_time_start)"
      ],
      "execution_count": 43,
      "outputs": []
    },
    {
      "cell_type": "markdown",
      "metadata": {
        "id": "_fjnN9_8cxpj"
      },
      "source": [
        "# LSTM"
      ]
    },
    {
      "cell_type": "code",
      "metadata": {
        "id": "-hIziYaQcVwS",
        "outputId": "6e134d5c-ea01-436b-b35a-9faeffc2e1a6",
        "colab": {
          "base_uri": "https://localhost:8080/",
          "height": 52
        }
      },
      "source": [
        "\n",
        "%%time\n",
        "\n",
        "np.random.seed = 2   #2, 42\n",
        "tf.random.set_seed = 1  #42\n",
        "time_callback = TimeHistory()\n",
        "\n",
        "history = History()\n",
        "\n",
        "model = Sequential()\n",
        "model.add(keras.layers.LSTM(units = 1, input_shape = (x_train.shape[1],x_train.shape[2])))\n",
        "model.add(keras.layers.Dense(units = 1))\n",
        "\n",
        "model.compile(loss='mean_squared_error', optimizer='adam')\n",
        "\n",
        "history = model.fit(\n",
        "    x_train,y_train, \n",
        "    epochs= 40,\n",
        "    shuffle = False,\n",
        "    batch_size = 100,\n",
        "    callbacks=[history,time_callback],\n",
        "    validation_split = 0.3,\n",
        "    verbose = 0\n",
        ")\n"
      ],
      "execution_count": 47,
      "outputs": [
        {
          "output_type": "stream",
          "text": [
            "CPU times: user 54.8 s, sys: 4.13 s, total: 58.9 s\n",
            "Wall time: 35.3 s\n"
          ],
          "name": "stdout"
        }
      ]
    },
    {
      "cell_type": "code",
      "metadata": {
        "id": "VWyxk0MRe1IE",
        "outputId": "d26ec325-7453-4644-834b-fe231d0717b1",
        "colab": {
          "base_uri": "https://localhost:8080/",
          "height": 321
        }
      },
      "source": [
        "print(model.summary())\n",
        "train_mse_lstm = history.history.get('loss')\n",
        "val_mse_lstm = history.history.get('val_loss')\n",
        "time_lstm = list(time_callback.times)\n",
        "print('Total time taken ',sum(time_lstm))\n",
        "print(train_mse_lstm)\n",
        "print(val_mse_lstm)"
      ],
      "execution_count": 48,
      "outputs": [
        {
          "output_type": "stream",
          "text": [
            "Model: \"sequential_6\"\n",
            "_________________________________________________________________\n",
            "Layer (type)                 Output Shape              Param #   \n",
            "=================================================================\n",
            "lstm_2 (LSTM)                (None, 1)                 60        \n",
            "_________________________________________________________________\n",
            "dense_6 (Dense)              (None, 1)                 2         \n",
            "=================================================================\n",
            "Total params: 62\n",
            "Trainable params: 62\n",
            "Non-trainable params: 0\n",
            "_________________________________________________________________\n",
            "None\n",
            "Total time taken  34.91454195976257\n",
            "[0.02676546759903431, 0.019039008766412735, 0.01794806495308876, 0.017883341759443283, 0.017895735800266266, 0.017908599227666855, 0.01791686937212944, 0.016575515270233154, 0.015020252205431461, 0.014423444867134094, 0.014140092767775059, 0.013960091397166252, 0.013821114785969257, 0.013712750747799873, 0.013629574328660965, 0.013565605506300926, 0.013514789752662182, 0.013472328893840313, 0.013435572385787964, 0.013403864577412605, 0.013376077637076378, 0.01335083693265915, 0.013327494263648987, 0.013305695727467537, 0.01328522153198719, 0.013265876099467278, 0.01324752252548933, 0.013230019249022007, 0.013213260099291801, 0.013197152875363827, 0.013181624934077263, 0.013166609220206738, 0.013152052648365498, 0.013137918896973133, 0.013124180026352406, 0.013110811822116375, 0.013097810558974743, 0.013085177168250084, 0.013072917237877846, 0.013061038218438625]\n",
            "[0.02585042268037796, 0.021827250719070435, 0.021182416006922722, 0.02108377031981945, 0.021071461960673332, 0.021072404459118843, 0.021058399230241776, 0.018566064536571503, 0.017086045816540718, 0.016284924000501633, 0.015940388664603233, 0.015758519992232323, 0.015637438744306564, 0.015546866692602634, 0.015477778390049934, 0.01542531419545412, 0.015384705737233162, 0.015352049842476845, 0.015324839390814304, 0.015301549807190895, 0.015280903317034245, 0.015262066386640072, 0.015244542621076107, 0.015227993950247765, 0.015212178230285645, 0.015196914784610271, 0.015182050876319408, 0.015167474746704102, 0.015153092332184315, 0.01513882540166378, 0.015124617144465446, 0.015110403299331665, 0.015096140094101429, 0.015081788413226604, 0.015067324973642826, 0.015052721835672855, 0.015037989243865013, 0.015023144893348217, 0.015008225105702877, 0.014993295073509216]\n"
          ],
          "name": "stdout"
        }
      ]
    },
    {
      "cell_type": "code",
      "metadata": {
        "id": "ORImBZSXfTsu",
        "outputId": "36618c18-db21-46cb-d1fb-564cd81b16fc",
        "colab": {
          "base_uri": "https://localhost:8080/",
          "height": 295
        }
      },
      "source": [
        "plt.plot(train_mse_lstm)\n",
        "plt.plot(val_mse_lstm)\n",
        "plt.xlabel('Number of Epochs')\n",
        "plt.ylabel('Mean_Squared_Error')\n",
        "plt.title('Change in MSE with epoch')\n",
        "plt.legend(['train','val'],loc='upper left')\n",
        "plt.show()"
      ],
      "execution_count": 49,
      "outputs": [
        {
          "output_type": "display_data",
          "data": {
            "image/png": "[encoded data removed]",
            "text/plain": [
              "<Figure size 432x288 with 1 Axes>"
            ]
          },
          "metadata": {
            "tags": [],
            "needs_background": "light"
          }
        }
      ]
    },
    {
      "cell_type": "markdown",
      "metadata": {
        "id": "fFbksbJ6DzHf"
      },
      "source": [
        "# GRU"
      ]
    },
    {
      "cell_type": "code",
      "metadata": {
        "id": "I5ekU37LmdKv",
        "outputId": "62bc7e50-c2dc-4668-8e84-de2af6318f58",
        "colab": {
          "base_uri": "https://localhost:8080/",
          "height": 52
        }
      },
      "source": [
        "\n",
        "%%time\n",
        "\n",
        "np.random.seed = 2   #2, 42\n",
        "#tf.random.set_seed = 20  #42\n",
        "time_callback = TimeHistory()\n",
        "\n",
        "history = History()\n",
        "\n",
        "model = Sequential()\n",
        "model.add(keras.layers.GRU(units = 2, input_shape = (x_train.shape[1],x_train.shape[2])))\n",
        "model.add(keras.layers.Dense(units = 1))\n",
        "\n",
        "model.compile(loss='mean_squared_error', optimizer='adam')\n",
        "\n",
        "history = model.fit(\n",
        "    x_train,y_train, \n",
        "    epochs= 40,\n",
        "    shuffle = False,\n",
        "    batch_size = 100,\n",
        "    callbacks=[history,time_callback],\n",
        "    validation_split = 0.3,\n",
        "    verbose = 0\n",
        ")\n"
      ],
      "execution_count": 16,
      "outputs": [
        {
          "output_type": "stream",
          "text": [
            "CPU times: user 1min 3s, sys: 4.97 s, total: 1min 8s\n",
            "Wall time: 40.4 s\n"
          ],
          "name": "stdout"
        }
      ]
    },
    {
      "cell_type": "code",
      "metadata": {
        "id": "gRLeTy0vEDPd",
        "outputId": "da94d0b0-67c3-4c60-d242-8299209aa290",
        "colab": {
          "base_uri": "https://localhost:8080/",
          "height": 321
        }
      },
      "source": [
        "print(model.summary())\n",
        "train_mse_gru = history.history.get('loss')\n",
        "val_mse_gru = history.history.get('val_loss')\n",
        "time_gru = list(time_callback.times)\n",
        "print('Total time taken ',sum(time_gru))\n",
        "print(train_mse_gru)\n",
        "print(val_mse_gru)"
      ],
      "execution_count": 17,
      "outputs": [
        {
          "output_type": "stream",
          "text": [
            "Model: \"sequential_1\"\n",
            "_________________________________________________________________\n",
            "Layer (type)                 Output Shape              Param #   \n",
            "=================================================================\n",
            "gru (GRU)                    (None, 2)                 102       \n",
            "_________________________________________________________________\n",
            "dense_1 (Dense)              (None, 1)                 3         \n",
            "=================================================================\n",
            "Total params: 105\n",
            "Trainable params: 105\n",
            "Non-trainable params: 0\n",
            "_________________________________________________________________\n",
            "None\n",
            "Total time taken  40.12929916381836\n",
            "[2.477804660797119, 0.685613214969635, 0.2923751175403595, 0.10837174206972122, 0.06572099030017853, 0.0508919321000576, 0.039854228496551514, 0.03286776319146156, 0.02799188904464245, 0.024456173181533813, 0.02212998829782009, 0.020667366683483124, 0.019734125584363937, 0.019121915102005005, 0.018708745017647743, 0.01842232421040535, 0.018218841403722763, 0.018071036785840988, 0.0179615281522274, 0.017878973856568336, 0.0178158488124609, 0.01776694320142269, 0.01772867701947689, 0.01769845373928547, 0.0176743995398283, 0.017655136063694954, 0.017639609053730965, 0.01762700080871582, 0.01761668547987938, 0.017608145251870155, 0.017600977793335915, 0.01759486272931099, 0.01758948341012001, 0.017584627494215965, 0.017580078914761543, 0.017575688660144806, 0.017571281641721725, 0.017566734924912453, 0.017561931163072586, 0.01755679026246071]\n",
            "[1.3572213649749756, 0.5286821722984314, 0.19216875731945038, 0.0887375995516777, 0.06916791200637817, 0.053381163626909256, 0.042563486844301224, 0.03559741750359535, 0.030680052936077118, 0.027392514050006866, 0.025287358090281487, 0.02393282577395439, 0.023043610155582428, 0.0224438663572073, 0.022027134895324707, 0.02172883227467537, 0.021509265527129173, 0.021343493834137917, 0.021215563639998436, 0.021114954724907875, 0.021034548059105873, 0.02096945233643055, 0.020916197448968887, 0.02087233029305935, 0.020836031064391136, 0.020805971696972847, 0.020781194791197777, 0.020760949701070786, 0.020744722336530685, 0.02073211781680584, 0.0207228846848011, 0.020716793835163116, 0.02071377821266651, 0.020713744685053825, 0.020716652274131775, 0.020722487941384315, 0.02073127031326294, 0.02074299193918705, 0.02075766958296299, 0.020775265991687775]\n"
          ],
          "name": "stdout"
        }
      ]
    },
    {
      "cell_type": "code",
      "metadata": {
        "id": "GoUlomn6FHEM",
        "outputId": "32e29873-16ab-461d-f539-3ee8982ebe06",
        "colab": {
          "base_uri": "https://localhost:8080/",
          "height": 295
        }
      },
      "source": [
        "plt.plot(train_mse_gru)\n",
        "plt.plot(val_mse_gru)\n",
        "plt.xlabel('Number of Epochs')\n",
        "plt.ylabel('Mean_Squared_Error')\n",
        "plt.title('Change in MSE with epoch')\n",
        "plt.legend(['train','val'],loc='upper left')\n",
        "plt.show()"
      ],
      "execution_count": 18,
      "outputs": [
        {
          "output_type": "display_data",
          "data": {
            "image/png": "[encoded data removed]",
            "text/plain": [
              "<Figure size 432x288 with 1 Axes>"
            ]
          },
          "metadata": {
            "tags": [],
            "needs_background": "light"
          }
        }
      ]
    },
    {
      "cell_type": "markdown",
      "metadata": {
        "id": "Q1PdDPbBFUQ_"
      },
      "source": [
        "# Back Propogation Through Time (BPTT)"
      ]
    },
    {
      "cell_type": "code",
      "metadata": {
        "id": "_Hx8awI8FJqe",
        "outputId": "d7f4174f-118a-4a74-fa08-14ea2f5c8d5c",
        "colab": {
          "base_uri": "https://localhost:8080/",
          "height": 52
        }
      },
      "source": [
        "\n",
        "%%time\n",
        "\n",
        "np.random.seed = 2   #2, 42\n",
        "#tf.random.set_seed = 20  #42\n",
        "time_callback = TimeHistory()\n",
        "\n",
        "history = History()\n",
        "\n",
        "model = Sequential()\n",
        "model.add(SimpleRNN(units=1, input_shape=(x_train.shape[1],x_train.shape[2]),activation='sigmoid'))\n",
        "model.add(keras.layers.Dense(units = 1))\n",
        "\n",
        "model.compile(loss='mean_squared_error', optimizer='adam')\n",
        "\n",
        "history = model.fit(\n",
        "    x_train,y_train, \n",
        "    epochs= 40,\n",
        "    shuffle = False,\n",
        "    batch_size = 100,\n",
        "    callbacks=[history,time_callback],\n",
        "    validation_split = 0.3,\n",
        "    verbose = 0\n",
        ")\n"
      ],
      "execution_count": 51,
      "outputs": [
        {
          "output_type": "stream",
          "text": [
            "CPU times: user 25.4 s, sys: 2.3 s, total: 27.7 s\n",
            "Wall time: 17.2 s\n"
          ],
          "name": "stdout"
        }
      ]
    },
    {
      "cell_type": "code",
      "metadata": {
        "id": "Xb6cBIvuHInG",
        "outputId": "bc559a30-080c-441e-ee23-a6044863ffc3",
        "colab": {
          "base_uri": "https://localhost:8080/",
          "height": 321
        }
      },
      "source": [
        "print(model.summary())\n",
        "train_mse_rnn = history.history.get('loss')\n",
        "val_mse_rnn = history.history.get('val_loss')\n",
        "time_rnn = list(time_callback.times)\n",
        "print('Total time taken ',sum(time_rnn))\n",
        "print(train_mse_rnn)\n",
        "print(val_mse_rnn)"
      ],
      "execution_count": 52,
      "outputs": [
        {
          "output_type": "stream",
          "text": [
            "Model: \"sequential_7\"\n",
            "_________________________________________________________________\n",
            "Layer (type)                 Output Shape              Param #   \n",
            "=================================================================\n",
            "simple_rnn_1 (SimpleRNN)     (None, 1)                 15        \n",
            "_________________________________________________________________\n",
            "dense_7 (Dense)              (None, 1)                 2         \n",
            "=================================================================\n",
            "Total params: 17\n",
            "Trainable params: 17\n",
            "Non-trainable params: 0\n",
            "_________________________________________________________________\n",
            "None\n",
            "Total time taken  17.040717363357544\n",
            "[0.5175532698631287, 0.25247061252593994, 0.13943880796432495, 0.08806751668453217, 0.06208940967917442, 0.04730076715350151, 0.038128066807985306, 0.03231046721339226, 0.028571607545018196, 0.026105735450983047, 0.02442276105284691, 0.02322986349463463, 0.02234991453588009, 0.021671608090400696, 0.021122436970472336, 0.020655417814850807, 0.020243139937520027, 0.019873877987265587, 0.019545190036296844, 0.019255300983786583, 0.018998868763446808, 0.018769551068544388, 0.01856483519077301, 0.01838773861527443, 0.018243441358208656, 0.01813383400440216, 0.018055154010653496, 0.01800045743584633, 0.01796284131705761, 0.017936930060386658, 0.017919018864631653, 0.017906634137034416, 0.017898136749863625, 0.017892414703965187, 0.017888706177473068, 0.017886484041810036, 0.01788536086678505, 0.017885053530335426, 0.017885342240333557, 0.017886077985167503]\n",
            "[0.3126869201660156, 0.15254832804203033, 0.08430931717157364, 0.055075615644454956, 0.0409085787832737, 0.032903943210840225, 0.028129365295171738, 0.025331756100058556, 0.02369564212858677, 0.022718805819749832, 0.022117076441645622, 0.021733373403549194, 0.021479645743966103, 0.021305928006768227, 0.021183939650654793, 0.021097907796502113, 0.021038785576820374, 0.021000390872359276, 0.020977316424250603, 0.020964672788977623, 0.020958678796887398, 0.020956842228770256, 0.02095765992999077, 0.02096010372042656, 0.020963404327630997, 0.020966967567801476, 0.020970415323972702, 0.020973611623048782, 0.020976537838578224, 0.0209792647510767, 0.02098184823989868, 0.020984353497624397, 0.020986828953027725, 0.02098930813372135, 0.020991796627640724, 0.02099432796239853, 0.020996885374188423, 0.0209994874894619, 0.02100212126970291, 0.021004777401685715]\n"
          ],
          "name": "stdout"
        }
      ]
    },
    {
      "cell_type": "code",
      "metadata": {
        "id": "9cvTf6z6HVFW",
        "outputId": "59efadc2-5d02-40a6-8550-d84bd6fa082b",
        "colab": {
          "base_uri": "https://localhost:8080/",
          "height": 295
        }
      },
      "source": [
        "plt.plot(train_mse_rnn)\n",
        "plt.plot(val_mse_rnn)\n",
        "plt.xlabel('Number of Epochs')\n",
        "plt.ylabel('Mean_Squared_Error')\n",
        "plt.title('Change in MSE with epoch')\n",
        "plt.legend(['train','val'],loc='upper left')\n",
        "plt.show()"
      ],
      "execution_count": 53,
      "outputs": [
        {
          "output_type": "display_data",
          "data": {
            "image/png": "[encoded data removed]",
            "text/plain": [
              "<Figure size 432x288 with 1 Axes>"
            ]
          },
          "metadata": {
            "tags": [],
            "needs_background": "light"
          }
        }
      ]
    },
    {
      "cell_type": "markdown",
      "metadata": {
        "id": "qFeaThLnJeOv"
      },
      "source": [
        "# FeedForward Neural Network"
      ]
    },
    {
      "cell_type": "code",
      "metadata": {
        "id": "dc42UaAUHbFH",
        "outputId": "dd38e45a-057e-4236-9113-6fdcdb6fd453",
        "colab": {
          "base_uri": "https://localhost:8080/",
          "height": 223
        }
      },
      "source": [
        "df.head()"
      ],
      "execution_count": 22,
      "outputs": [
        {
          "output_type": "execute_result",
          "data": {
            "text/html": [
              "<div>\n",
              "<style scoped>\n",
              "    .dataframe tbody tr th:only-of-type {\n",
              "        vertical-align: middle;\n",
              "    }\n",
              "\n",
              "    .dataframe tbody tr th {\n",
              "        vertical-align: top;\n",
              "    }\n",
              "\n",
              "    .dataframe thead th {\n",
              "        text-align: right;\n",
              "    }\n",
              "</style>\n",
              "<table border=\"1\" class=\"dataframe\">\n",
              "  <thead>\n",
              "    <tr style=\"text-align: right;\">\n",
              "      <th></th>\n",
              "      <th>cnt</th>\n",
              "      <th>t1</th>\n",
              "      <th>t2</th>\n",
              "      <th>hum</th>\n",
              "      <th>wind_speed</th>\n",
              "      <th>weather_code</th>\n",
              "      <th>is_holiday</th>\n",
              "      <th>is_weekend</th>\n",
              "      <th>season</th>\n",
              "      <th>hour</th>\n",
              "      <th>day_of_month</th>\n",
              "      <th>day_of_week</th>\n",
              "      <th>month</th>\n",
              "    </tr>\n",
              "    <tr>\n",
              "      <th>timestamp</th>\n",
              "      <th></th>\n",
              "      <th></th>\n",
              "      <th></th>\n",
              "      <th></th>\n",
              "      <th></th>\n",
              "      <th></th>\n",
              "      <th></th>\n",
              "      <th></th>\n",
              "      <th></th>\n",
              "      <th></th>\n",
              "      <th></th>\n",
              "      <th></th>\n",
              "      <th></th>\n",
              "    </tr>\n",
              "  </thead>\n",
              "  <tbody>\n",
              "    <tr>\n",
              "      <th>2015-01-04 00:00:00</th>\n",
              "      <td>182</td>\n",
              "      <td>0.126761</td>\n",
              "      <td>0.2000</td>\n",
              "      <td>0.911950</td>\n",
              "      <td>0.106195</td>\n",
              "      <td>3.0</td>\n",
              "      <td>0.0</td>\n",
              "      <td>1.0</td>\n",
              "      <td>3.0</td>\n",
              "      <td>0</td>\n",
              "      <td>4</td>\n",
              "      <td>6</td>\n",
              "      <td>1</td>\n",
              "    </tr>\n",
              "    <tr>\n",
              "      <th>2015-01-04 01:00:00</th>\n",
              "      <td>138</td>\n",
              "      <td>0.126761</td>\n",
              "      <td>0.2125</td>\n",
              "      <td>0.911950</td>\n",
              "      <td>0.088496</td>\n",
              "      <td>1.0</td>\n",
              "      <td>0.0</td>\n",
              "      <td>1.0</td>\n",
              "      <td>3.0</td>\n",
              "      <td>1</td>\n",
              "      <td>4</td>\n",
              "      <td>6</td>\n",
              "      <td>1</td>\n",
              "    </tr>\n",
              "    <tr>\n",
              "      <th>2015-01-04 02:00:00</th>\n",
              "      <td>134</td>\n",
              "      <td>0.112676</td>\n",
              "      <td>0.2125</td>\n",
              "      <td>0.955975</td>\n",
              "      <td>0.000000</td>\n",
              "      <td>1.0</td>\n",
              "      <td>0.0</td>\n",
              "      <td>1.0</td>\n",
              "      <td>3.0</td>\n",
              "      <td>2</td>\n",
              "      <td>4</td>\n",
              "      <td>6</td>\n",
              "      <td>1</td>\n",
              "    </tr>\n",
              "    <tr>\n",
              "      <th>2015-01-04 03:00:00</th>\n",
              "      <td>72</td>\n",
              "      <td>0.098592</td>\n",
              "      <td>0.2000</td>\n",
              "      <td>1.000000</td>\n",
              "      <td>0.000000</td>\n",
              "      <td>1.0</td>\n",
              "      <td>0.0</td>\n",
              "      <td>1.0</td>\n",
              "      <td>3.0</td>\n",
              "      <td>3</td>\n",
              "      <td>4</td>\n",
              "      <td>6</td>\n",
              "      <td>1</td>\n",
              "    </tr>\n",
              "    <tr>\n",
              "      <th>2015-01-04 04:00:00</th>\n",
              "      <td>47</td>\n",
              "      <td>0.098592</td>\n",
              "      <td>0.1500</td>\n",
              "      <td>0.911950</td>\n",
              "      <td>0.115044</td>\n",
              "      <td>1.0</td>\n",
              "      <td>0.0</td>\n",
              "      <td>1.0</td>\n",
              "      <td>3.0</td>\n",
              "      <td>4</td>\n",
              "      <td>4</td>\n",
              "      <td>6</td>\n",
              "      <td>1</td>\n",
              "    </tr>\n",
              "  </tbody>\n",
              "</table>\n",
              "</div>"
            ],
            "text/plain": [
              "                     cnt        t1      t2  ...  day_of_month  day_of_week  month\n",
              "timestamp                                   ...                                  \n",
              "2015-01-04 00:00:00  182  0.126761  0.2000  ...             4            6      1\n",
              "2015-01-04 01:00:00  138  0.126761  0.2125  ...             4            6      1\n",
              "2015-01-04 02:00:00  134  0.112676  0.2125  ...             4            6      1\n",
              "2015-01-04 03:00:00   72  0.098592  0.2000  ...             4            6      1\n",
              "2015-01-04 04:00:00   47  0.098592  0.1500  ...             4            6      1\n",
              "\n",
              "[5 rows x 13 columns]"
            ]
          },
          "metadata": {
            "tags": []
          },
          "execution_count": 22
        }
      ]
    },
    {
      "cell_type": "code",
      "metadata": {
        "id": "vNm-YK0ZJzeR"
      },
      "source": [
        "#Splitting into X and Y i.e. input and output variables respectively\n",
        "x_ff = df.loc[:,'t1':'month']\n",
        "y_ff = df.loc[:,'cnt']"
      ],
      "execution_count": 23,
      "outputs": []
    },
    {
      "cell_type": "code",
      "metadata": {
        "id": "kncn6_wWV5jW",
        "outputId": "eae2d6b8-77d9-4b52-be53-e30a0365aabf",
        "colab": {
          "base_uri": "https://localhost:8080/",
          "height": 35
        }
      },
      "source": [
        "type(np.array(y_ff))"
      ],
      "execution_count": 24,
      "outputs": [
        {
          "output_type": "execute_result",
          "data": {
            "text/plain": [
              "numpy.ndarray"
            ]
          },
          "metadata": {
            "tags": []
          },
          "execution_count": 24
        }
      ]
    },
    {
      "cell_type": "code",
      "metadata": {
        "id": "k--Xplx2VR1v"
      },
      "source": [
        "minmax = MinMaxScaler()\n",
        "\n",
        "x = minmax.fit_transform(x_ff)\n",
        "\n",
        "# transform target variables\n",
        "y = minmax.fit_transform(np.array(y_ff).reshape(-1,1))"
      ],
      "execution_count": 25,
      "outputs": []
    },
    {
      "cell_type": "code",
      "metadata": {
        "id": "wp0HkdNNLfcx"
      },
      "source": [
        "x_train, x_val, y_train, y_val = train_test_split(x, y, test_size=0.30, random_state=8)"
      ],
      "execution_count": 26,
      "outputs": []
    },
    {
      "cell_type": "code",
      "metadata": {
        "id": "7YC8gNzQLWLh",
        "outputId": "24ce6604-99f9-4f45-e1d8-6c89a0af912d",
        "colab": {
          "base_uri": "https://localhost:8080/",
          "height": 52
        }
      },
      "source": [
        "#create a d-2d-1 neural network with sigmoid activation function\n",
        "%%time\n",
        "\n",
        "time_callback = TimeHistory()\n",
        "\n",
        "history = History()\n",
        "\n",
        "model2 = Sequential()\n",
        "model2.add(Dense(24, input_dim = 12, activation = 'sigmoid'))\n",
        "model2.add(Dense(1))\n",
        "\n",
        "model2.compile(loss='mean_squared_error', optimizer='sgd')\n",
        "\n",
        "model2.fit(x_train, y_train, batch_size=12189, epochs=40, verbose=0, callbacks=[history,time_callback],validation_data=(x_val,y_val))"
      ],
      "execution_count": 27,
      "outputs": [
        {
          "output_type": "stream",
          "text": [
            "CPU times: user 1.21 s, sys: 40.4 ms, total: 1.25 s\n",
            "Wall time: 1.12 s\n"
          ],
          "name": "stdout"
        }
      ]
    },
    {
      "cell_type": "code",
      "metadata": {
        "id": "mE1gbY7dOWpA",
        "outputId": "9095bab4-c61a-42ac-d5fb-da952250171e",
        "colab": {
          "base_uri": "https://localhost:8080/",
          "height": 321
        }
      },
      "source": [
        "print(model2.summary())\n",
        "train_ff = history.history.get('loss')\n",
        "val_ff = history.history.get('val_loss')\n",
        "time_ff = list(time_callback.times)\n",
        "print('Total time taken ',sum(time_ff))\n",
        "print(train_ff)\n",
        "print(val_ff)"
      ],
      "execution_count": 28,
      "outputs": [
        {
          "output_type": "stream",
          "text": [
            "Model: \"sequential_3\"\n",
            "_________________________________________________________________\n",
            "Layer (type)                 Output Shape              Param #   \n",
            "=================================================================\n",
            "dense_3 (Dense)              (None, 24)                312       \n",
            "_________________________________________________________________\n",
            "dense_4 (Dense)              (None, 1)                 25        \n",
            "=================================================================\n",
            "Total params: 337\n",
            "Trainable params: 337\n",
            "Non-trainable params: 0\n",
            "_________________________________________________________________\n",
            "None\n",
            "Total time taken  1.0211539268493652\n",
            "[0.21328595280647278, 0.16217990219593048, 0.12498781830072403, 0.09791363030672073, 0.07819990068674088, 0.06384242326021194, 0.05338359251618385, 0.04576308652758598, 0.04020917788147926, 0.0361601747572422, 0.03320714458823204, 0.031052350997924805, 0.029478944838047028, 0.02832903526723385, 0.027487607672810555, 0.02687090076506138, 0.026417899876832962, 0.026084143668413162, 0.025837285444140434, 0.025653725489974022, 0.025516286492347717, 0.02541245147585869, 0.025333108380436897, 0.02527160756289959, 0.025223111733794212, 0.025184104219079018, 0.025152012705802917, 0.025124959647655487, 0.025101587176322937, 0.025080902501940727, 0.025062179192900658, 0.025044893845915794, 0.025028662756085396, 0.02501320280134678, 0.024998310953378677, 0.024983838200569153, 0.0249696783721447, 0.02495575323700905, 0.024941997602581978, 0.0249283816665411]\n",
            "[0.16122546792030334, 0.12408659607172012, 0.09705972671508789, 0.0773877277970314, 0.06306683272123337, 0.05263997241854668, 0.04504726454615593, 0.03951748460531235, 0.03548936918377876, 0.032554395496845245, 0.030415190383791924, 0.028855228796601295, 0.027716899290680885, 0.02688545174896717, 0.026277342811226845, 0.02583174593746662, 0.025504378601908684, 0.025263026356697083, 0.025084223598241806, 0.024950897321105003, 0.024850616231560707, 0.02477435953915119, 0.024715540930628777, 0.02466939017176628, 0.024632422253489494, 0.024602118879556656, 0.024576641619205475, 0.024554666131734848, 0.02453521639108658, 0.024517597630620003, 0.024501293897628784, 0.024485953152179718, 0.02447129786014557, 0.024457139894366264, 0.024443339556455612, 0.024429801851511, 0.024416455999016762, 0.024403244256973267, 0.02439013496041298, 0.024377096444368362]\n"
          ],
          "name": "stdout"
        }
      ]
    },
    {
      "cell_type": "code",
      "metadata": {
        "id": "4ZjvdSKLOZZi",
        "outputId": "0e50b644-9ac5-46f2-dc9e-1341ca839ddc",
        "colab": {
          "base_uri": "https://localhost:8080/",
          "height": 295
        }
      },
      "source": [
        "plt.plot(train_ff)\n",
        "plt.plot(val_ff)\n",
        "plt.xlabel('Number of Epochs')\n",
        "plt.ylabel('Mean_Squared_Error')\n",
        "plt.title('Change in MSE with epoch')\n",
        "plt.legend(['train','val'],loc='upper left')\n",
        "plt.show()"
      ],
      "execution_count": 29,
      "outputs": [
        {
          "output_type": "display_data",
          "data": {
            "image/png": "[encoded data removed]",
            "text/plain": [
              "<Figure size 432x288 with 1 Axes>"
            ]
          },
          "metadata": {
            "tags": [],
            "needs_background": "light"
          }
        }
      ]
    },
    {
      "cell_type": "markdown",
      "metadata": {
        "id": "RnzZrZMUj30Y"
      },
      "source": [
        "# Model Comparision "
      ]
    },
    {
      "cell_type": "code",
      "metadata": {
        "id": "IRvdP1RxOthe",
        "outputId": "5f2e11f8-1332-4c07-8dc1-1bca7d19c0af",
        "colab": {
          "base_uri": "https://localhost:8080/",
          "height": 295
        }
      },
      "source": [
        "#plot the mse for the FF, BPTT, RNN, GRU\n",
        "plt.plot(val_ff)\n",
        "plt.plot(val_mse_lstm)\n",
        "plt.plot(val_mse_rnn)\n",
        "plt.plot(val_mse_gru)\n",
        "plt.xlabel('Number of Epochs')\n",
        "plt.ylabel('Mean_Squared_Error')\n",
        "plt.title('Change in MSE with epoch')\n",
        "plt.legend(['FF','LSTM','BPTT','GRU'],loc='upper left')\n",
        "plt.show()"
      ],
      "execution_count": 62,
      "outputs": [
        {
          "output_type": "display_data",
          "data": {
            "image/png": "[encoded data removed]",
            "text/plain": [
              "<Figure size 432x288 with 1 Axes>"
            ]
          },
          "metadata": {
            "tags": [],
            "needs_background": "light"
          }
        }
      ]
    },
    {
      "cell_type": "code",
      "metadata": {
        "id": "Jidd_Xx3ZPjJ",
        "outputId": "be4688d1-7dad-4a08-ec09-4f346600d2ad",
        "colab": {
          "base_uri": "https://localhost:8080/",
          "height": 164
        }
      },
      "source": [
        "#Dataframe for MSE and Total_Time\n",
        "d = {'MSE': [val_ff[-1], val_mse_lstm[-1], val_mse_rnn[-1], val_mse_gru[-1]], 'Total_Time': [sum(time_ff), sum(time_lstm), sum(time_rnn), sum(time_gru)]}\n",
        "result_df = pd.DataFrame(data=d, index=['FF','LSTM','BPTT','GRU'])\n",
        "result_df"
      ],
      "execution_count": 63,
      "outputs": [
        {
          "output_type": "execute_result",
          "data": {
            "text/html": [
              "<div>\n",
              "<style scoped>\n",
              "    .dataframe tbody tr th:only-of-type {\n",
              "        vertical-align: middle;\n",
              "    }\n",
              "\n",
              "    .dataframe tbody tr th {\n",
              "        vertical-align: top;\n",
              "    }\n",
              "\n",
              "    .dataframe thead th {\n",
              "        text-align: right;\n",
              "    }\n",
              "</style>\n",
              "<table border=\"1\" class=\"dataframe\">\n",
              "  <thead>\n",
              "    <tr style=\"text-align: right;\">\n",
              "      <th></th>\n",
              "      <th>MSE</th>\n",
              "      <th>Total_Time</th>\n",
              "    </tr>\n",
              "  </thead>\n",
              "  <tbody>\n",
              "    <tr>\n",
              "      <th>FF</th>\n",
              "      <td>0.024377</td>\n",
              "      <td>1.021154</td>\n",
              "    </tr>\n",
              "    <tr>\n",
              "      <th>LSTM</th>\n",
              "      <td>0.014993</td>\n",
              "      <td>34.914542</td>\n",
              "    </tr>\n",
              "    <tr>\n",
              "      <th>BPTT</th>\n",
              "      <td>0.021005</td>\n",
              "      <td>17.040717</td>\n",
              "    </tr>\n",
              "    <tr>\n",
              "      <th>GRU</th>\n",
              "      <td>0.020775</td>\n",
              "      <td>40.129299</td>\n",
              "    </tr>\n",
              "  </tbody>\n",
              "</table>\n",
              "</div>"
            ],
            "text/plain": [
              "           MSE  Total_Time\n",
              "FF    0.024377    1.021154\n",
              "LSTM  0.014993   34.914542\n",
              "BPTT  0.021005   17.040717\n",
              "GRU   0.020775   40.129299"
            ]
          },
          "metadata": {
            "tags": []
          },
          "execution_count": 63
        }
      ]
    },
    {
      "cell_type": "code",
      "metadata": {
        "id": "Z5cELusGetak",
        "outputId": "d4aa67eb-7e99-4da6-ffbe-0dfe1b835d8b",
        "colab": {
          "base_uri": "https://localhost:8080/",
          "height": 279
        }
      },
      "source": [
        "#Scatterplot for total time taken by models and their respective MSE values \n",
        "y = [sum(time_ff), sum(time_lstm), sum(time_rnn), sum(time_gru)]\n",
        "z = [val_ff[-1], val_mse_lstm[-1], val_mse_rnn[-1], val_mse_gru[-1]]\n",
        "n = ['FF', 'LSTM', 'BPTT', 'GRU']\n",
        "\n",
        "fig, ax = plt.subplots()\n",
        "ax.scatter(z, y)\n",
        "plt.ylabel('Total time elasped for building a model')\n",
        "plt.xlabel('MSE')\n",
        "\n",
        "for i, txt in enumerate(n):\n",
        "    ax.annotate(txt, (z[i], y[i]))"
      ],
      "execution_count": 64,
      "outputs": [
        {
          "output_type": "display_data",
          "data": {
            "image/png": "[encoded data removed]",
            "text/plain": [
              "<Figure size 432x288 with 1 Axes>"
            ]
          },
          "metadata": {
            "tags": [],
            "needs_background": "light"
          }
        }
      ]
    },
    {
      "cell_type": "markdown",
      "metadata": {
        "id": "gwmuyf2AlTec"
      },
      "source": [
        "**TOTAL TIME ELAPSED AND PERFORMANCE EVALUATION**\n",
        "\n",
        "1.   Time: \n",
        "For this specific problem time elapsed to build the model is lowest for the FeedForward network followed by the BPTT, LSTM and GRU respectively.\n",
        "\n",
        "REASON: FeedForward neural network is a very simple architecture and hence it takes relatively less time. The architecture for BPTT, GRU and LSTM is very complex and thus it takes longer to perform the task.\n",
        "\n",
        "2.   Performance (MSE): \n",
        "We can evaluate the performance of the model by comparing the MSE scores of the models. Based on the above plot we can see that the LSTM provides the least MSE values. This is followed by the GRU, then BPTT and Feedforward network.\n",
        "\n",
        "REASON: LSTM has a complex architecture when compared to other models (GRU, BPTT and Feedforward). Therefore, LSTM is able to identify more complex functions and that can be beneficial to extract more relevant data patterns from the dataset. \n",
        "\n",
        "\n",
        "However, the time elapsed and the cost of computation might vary with different problem statement.  \n"
      ]
    },
    {
      "cell_type": "code",
      "metadata": {
        "id": "SnKhlGsoiGv8"
      },
      "source": [
        ""
      ],
      "execution_count": null,
      "outputs": []
    }
  ]
}