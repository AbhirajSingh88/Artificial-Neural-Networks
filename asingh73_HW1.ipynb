{
  "nbformat": 4,
  "nbformat_minor": 0,
  "metadata": {
    "colab": {
      "name": "asingh73_HW1.ipynb",
      "provenance": [],
      "collapsed_sections": []
    },
    "kernelspec": {
      "name": "python3",
      "display_name": "Python 3"
    }
  },
  "cells": [
    {
      "cell_type": "markdown",
      "metadata": {
        "id": "CQDEgXpLQsc_"
      },
      "source": [
        "# CIS 731 ANN - ABHIRAJ SINGH (598879585)"
      ]
    },
    {
      "cell_type": "code",
      "metadata": {
        "id": "uh7c1cIEMhYK"
      },
      "source": [
        "#import the libraries required for the tasks\n",
        "\n",
        "import pandas as pd\n",
        "import numpy as np\n",
        "import tensorflow as tf\n",
        "import keras\n",
        "from keras.models import Sequential\n",
        "from keras.layers import Dense\n",
        "import matplotlib.pyplot as plt\n",
        "from keras.callbacks import History\n",
        "from collections import Iterable\n",
        "from sklearn.model_selection import train_test_split\n",
        "from sklearn.preprocessing import StandardScaler\n",
        "import time"
      ],
      "execution_count": null,
      "outputs": []
    },
    {
      "cell_type": "code",
      "metadata": {
        "id": "sLROev7BMx3G",
        "outputId": "f6f0d726-af2a-45be-b67c-836c28d6ef4d",
        "colab": {
          "base_uri": "https://localhost:8080/",
          "height": 264
        }
      },
      "source": [
        "#to load and run the dataset locally\n",
        " \n",
        "df = pd.read_excel('Concrete_Data.xls',header=0)\n",
        "print(df.shape)\n",
        "df.head(5)"
      ],
      "execution_count": null,
      "outputs": [
        {
          "output_type": "stream",
          "text": [
            "(1030, 9)\n"
          ],
          "name": "stdout"
        },
        {
          "output_type": "execute_result",
          "data": {
            "text/html": [
              "<div>\n",
              "<style scoped>\n",
              "    .dataframe tbody tr th:only-of-type {\n",
              "        vertical-align: middle;\n",
              "    }\n",
              "\n",
              "    .dataframe tbody tr th {\n",
              "        vertical-align: top;\n",
              "    }\n",
              "\n",
              "    .dataframe thead th {\n",
              "        text-align: right;\n",
              "    }\n",
              "</style>\n",
              "<table border=\"1\" class=\"dataframe\">\n",
              "  <thead>\n",
              "    <tr style=\"text-align: right;\">\n",
              "      <th></th>\n",
              "      <th>Cement (component 1)(kg in a m^3 mixture)</th>\n",
              "      <th>Blast Furnace Slag (component 2)(kg in a m^3 mixture)</th>\n",
              "      <th>Fly Ash (component 3)(kg in a m^3 mixture)</th>\n",
              "      <th>Water  (component 4)(kg in a m^3 mixture)</th>\n",
              "      <th>Superplasticizer (component 5)(kg in a m^3 mixture)</th>\n",
              "      <th>Coarse Aggregate  (component 6)(kg in a m^3 mixture)</th>\n",
              "      <th>Fine Aggregate (component 7)(kg in a m^3 mixture)</th>\n",
              "      <th>Age (day)</th>\n",
              "      <th>Concrete compressive strength(MPa, megapascals)</th>\n",
              "    </tr>\n",
              "  </thead>\n",
              "  <tbody>\n",
              "    <tr>\n",
              "      <th>0</th>\n",
              "      <td>540.0</td>\n",
              "      <td>0.0</td>\n",
              "      <td>0.0</td>\n",
              "      <td>162.0</td>\n",
              "      <td>2.5</td>\n",
              "      <td>1040.0</td>\n",
              "      <td>676.0</td>\n",
              "      <td>28</td>\n",
              "      <td>79.986111</td>\n",
              "    </tr>\n",
              "    <tr>\n",
              "      <th>1</th>\n",
              "      <td>540.0</td>\n",
              "      <td>0.0</td>\n",
              "      <td>0.0</td>\n",
              "      <td>162.0</td>\n",
              "      <td>2.5</td>\n",
              "      <td>1055.0</td>\n",
              "      <td>676.0</td>\n",
              "      <td>28</td>\n",
              "      <td>61.887366</td>\n",
              "    </tr>\n",
              "    <tr>\n",
              "      <th>2</th>\n",
              "      <td>332.5</td>\n",
              "      <td>142.5</td>\n",
              "      <td>0.0</td>\n",
              "      <td>228.0</td>\n",
              "      <td>0.0</td>\n",
              "      <td>932.0</td>\n",
              "      <td>594.0</td>\n",
              "      <td>270</td>\n",
              "      <td>40.269535</td>\n",
              "    </tr>\n",
              "    <tr>\n",
              "      <th>3</th>\n",
              "      <td>332.5</td>\n",
              "      <td>142.5</td>\n",
              "      <td>0.0</td>\n",
              "      <td>228.0</td>\n",
              "      <td>0.0</td>\n",
              "      <td>932.0</td>\n",
              "      <td>594.0</td>\n",
              "      <td>365</td>\n",
              "      <td>41.052780</td>\n",
              "    </tr>\n",
              "    <tr>\n",
              "      <th>4</th>\n",
              "      <td>198.6</td>\n",
              "      <td>132.4</td>\n",
              "      <td>0.0</td>\n",
              "      <td>192.0</td>\n",
              "      <td>0.0</td>\n",
              "      <td>978.4</td>\n",
              "      <td>825.5</td>\n",
              "      <td>360</td>\n",
              "      <td>44.296075</td>\n",
              "    </tr>\n",
              "  </tbody>\n",
              "</table>\n",
              "</div>"
            ],
            "text/plain": [
              "   Cement (component 1)(kg in a m^3 mixture)  ...  Concrete compressive strength(MPa, megapascals) \n",
              "0                                      540.0  ...                                         79.986111\n",
              "1                                      540.0  ...                                         61.887366\n",
              "2                                      332.5  ...                                         40.269535\n",
              "3                                      332.5  ...                                         41.052780\n",
              "4                                      198.6  ...                                         44.296075\n",
              "\n",
              "[5 rows x 9 columns]"
            ]
          },
          "metadata": {
            "tags": []
          },
          "execution_count": 2
        }
      ]
    },
    {
      "cell_type": "code",
      "metadata": {
        "id": "O_4FU0LAkoqP",
        "outputId": "003eb336-5742-4991-b072-9ac254898034",
        "colab": {
          "base_uri": "https://localhost:8080/",
          "height": 317
        }
      },
      "source": [
        "df.describe().transpose()"
      ],
      "execution_count": null,
      "outputs": [
        {
          "output_type": "execute_result",
          "data": {
            "text/html": [
              "<div>\n",
              "<style scoped>\n",
              "    .dataframe tbody tr th:only-of-type {\n",
              "        vertical-align: middle;\n",
              "    }\n",
              "\n",
              "    .dataframe tbody tr th {\n",
              "        vertical-align: top;\n",
              "    }\n",
              "\n",
              "    .dataframe thead th {\n",
              "        text-align: right;\n",
              "    }\n",
              "</style>\n",
              "<table border=\"1\" class=\"dataframe\">\n",
              "  <thead>\n",
              "    <tr style=\"text-align: right;\">\n",
              "      <th></th>\n",
              "      <th>count</th>\n",
              "      <th>mean</th>\n",
              "      <th>std</th>\n",
              "      <th>min</th>\n",
              "      <th>25%</th>\n",
              "      <th>50%</th>\n",
              "      <th>75%</th>\n",
              "      <th>max</th>\n",
              "    </tr>\n",
              "  </thead>\n",
              "  <tbody>\n",
              "    <tr>\n",
              "      <th>Cement (component 1)(kg in a m^3 mixture)</th>\n",
              "      <td>1030.0</td>\n",
              "      <td>281.165631</td>\n",
              "      <td>104.507142</td>\n",
              "      <td>102.000000</td>\n",
              "      <td>192.375000</td>\n",
              "      <td>272.900000</td>\n",
              "      <td>350.000000</td>\n",
              "      <td>540.000000</td>\n",
              "    </tr>\n",
              "    <tr>\n",
              "      <th>Blast Furnace Slag (component 2)(kg in a m^3 mixture)</th>\n",
              "      <td>1030.0</td>\n",
              "      <td>73.895485</td>\n",
              "      <td>86.279104</td>\n",
              "      <td>0.000000</td>\n",
              "      <td>0.000000</td>\n",
              "      <td>22.000000</td>\n",
              "      <td>142.950000</td>\n",
              "      <td>359.400000</td>\n",
              "    </tr>\n",
              "    <tr>\n",
              "      <th>Fly Ash (component 3)(kg in a m^3 mixture)</th>\n",
              "      <td>1030.0</td>\n",
              "      <td>54.187136</td>\n",
              "      <td>63.996469</td>\n",
              "      <td>0.000000</td>\n",
              "      <td>0.000000</td>\n",
              "      <td>0.000000</td>\n",
              "      <td>118.270000</td>\n",
              "      <td>200.100000</td>\n",
              "    </tr>\n",
              "    <tr>\n",
              "      <th>Water  (component 4)(kg in a m^3 mixture)</th>\n",
              "      <td>1030.0</td>\n",
              "      <td>181.566359</td>\n",
              "      <td>21.355567</td>\n",
              "      <td>121.750000</td>\n",
              "      <td>164.900000</td>\n",
              "      <td>185.000000</td>\n",
              "      <td>192.000000</td>\n",
              "      <td>247.000000</td>\n",
              "    </tr>\n",
              "    <tr>\n",
              "      <th>Superplasticizer (component 5)(kg in a m^3 mixture)</th>\n",
              "      <td>1030.0</td>\n",
              "      <td>6.203112</td>\n",
              "      <td>5.973492</td>\n",
              "      <td>0.000000</td>\n",
              "      <td>0.000000</td>\n",
              "      <td>6.350000</td>\n",
              "      <td>10.160000</td>\n",
              "      <td>32.200000</td>\n",
              "    </tr>\n",
              "    <tr>\n",
              "      <th>Coarse Aggregate  (component 6)(kg in a m^3 mixture)</th>\n",
              "      <td>1030.0</td>\n",
              "      <td>972.918592</td>\n",
              "      <td>77.753818</td>\n",
              "      <td>801.000000</td>\n",
              "      <td>932.000000</td>\n",
              "      <td>968.000000</td>\n",
              "      <td>1029.400000</td>\n",
              "      <td>1145.000000</td>\n",
              "    </tr>\n",
              "    <tr>\n",
              "      <th>Fine Aggregate (component 7)(kg in a m^3 mixture)</th>\n",
              "      <td>1030.0</td>\n",
              "      <td>773.578883</td>\n",
              "      <td>80.175427</td>\n",
              "      <td>594.000000</td>\n",
              "      <td>730.950000</td>\n",
              "      <td>779.510000</td>\n",
              "      <td>824.000000</td>\n",
              "      <td>992.600000</td>\n",
              "    </tr>\n",
              "    <tr>\n",
              "      <th>Age (day)</th>\n",
              "      <td>1030.0</td>\n",
              "      <td>45.662136</td>\n",
              "      <td>63.169912</td>\n",
              "      <td>1.000000</td>\n",
              "      <td>7.000000</td>\n",
              "      <td>28.000000</td>\n",
              "      <td>56.000000</td>\n",
              "      <td>365.000000</td>\n",
              "    </tr>\n",
              "    <tr>\n",
              "      <th>Concrete compressive strength(MPa, megapascals)</th>\n",
              "      <td>1030.0</td>\n",
              "      <td>35.817836</td>\n",
              "      <td>16.705679</td>\n",
              "      <td>2.331808</td>\n",
              "      <td>23.707115</td>\n",
              "      <td>34.442774</td>\n",
              "      <td>46.136287</td>\n",
              "      <td>82.599225</td>\n",
              "    </tr>\n",
              "  </tbody>\n",
              "</table>\n",
              "</div>"
            ],
            "text/plain": [
              "                                                     count  ...          max\n",
              "Cement (component 1)(kg in a m^3 mixture)           1030.0  ...   540.000000\n",
              "Blast Furnace Slag (component 2)(kg in a m^3 mi...  1030.0  ...   359.400000\n",
              "Fly Ash (component 3)(kg in a m^3 mixture)          1030.0  ...   200.100000\n",
              "Water  (component 4)(kg in a m^3 mixture)           1030.0  ...   247.000000\n",
              "Superplasticizer (component 5)(kg in a m^3 mixt...  1030.0  ...    32.200000\n",
              "Coarse Aggregate  (component 6)(kg in a m^3 mix...  1030.0  ...  1145.000000\n",
              "Fine Aggregate (component 7)(kg in a m^3 mixture)   1030.0  ...   992.600000\n",
              "Age (day)                                           1030.0  ...   365.000000\n",
              "Concrete compressive strength(MPa, megapascals)     1030.0  ...    82.599225\n",
              "\n",
              "[9 rows x 8 columns]"
            ]
          },
          "metadata": {
            "tags": []
          },
          "execution_count": 3
        }
      ]
    },
    {
      "cell_type": "code",
      "metadata": {
        "id": "rDQSjPRcM1FC",
        "outputId": "9f92f376-eab7-4cb8-a3ef-1e35721406a5",
        "colab": {
          "base_uri": "https://localhost:8080/",
          "height": 183
        }
      },
      "source": [
        "#check for any NA values\n",
        "\n",
        "lst = df.columns\n",
        "def count_na(x):    \n",
        "    for i in lst:\n",
        "        return df[x].isnull().any()\n",
        "obj1 = count_na(lst)\n",
        "obj1"
      ],
      "execution_count": null,
      "outputs": [
        {
          "output_type": "execute_result",
          "data": {
            "text/plain": [
              "Cement (component 1)(kg in a m^3 mixture)                False\n",
              "Blast Furnace Slag (component 2)(kg in a m^3 mixture)    False\n",
              "Fly Ash (component 3)(kg in a m^3 mixture)               False\n",
              "Water  (component 4)(kg in a m^3 mixture)                False\n",
              "Superplasticizer (component 5)(kg in a m^3 mixture)      False\n",
              "Coarse Aggregate  (component 6)(kg in a m^3 mixture)     False\n",
              "Fine Aggregate (component 7)(kg in a m^3 mixture)        False\n",
              "Age (day)                                                False\n",
              "Concrete compressive strength(MPa, megapascals)          False\n",
              "dtype: bool"
            ]
          },
          "metadata": {
            "tags": []
          },
          "execution_count": 4
        }
      ]
    },
    {
      "cell_type": "code",
      "metadata": {
        "id": "O4K3c1GqNXZ1"
      },
      "source": [
        "#Splitting into X and Y i.e. input and output variables respectively\n",
        "x = df.loc[:,'Cement (component 1)(kg in a m^3 mixture)':'Age (day)']\n",
        "y = df.iloc[:,8]"
      ],
      "execution_count": null,
      "outputs": []
    },
    {
      "cell_type": "code",
      "metadata": {
        "id": "0WQ-SQcPNMzl"
      },
      "source": [
        "#normalizing the dataset \n",
        "sc = StandardScaler()\n",
        "x = sc.fit_transform(x)\n",
        "\n",
        "#splitling the dataset into train and validation set\n",
        "x_train, x_val, y_train, y_val = train_test_split(x, y, test_size=0.30, random_state=8)"
      ],
      "execution_count": null,
      "outputs": []
    },
    {
      "cell_type": "code",
      "metadata": {
        "id": "8sXsEUhkNAhb",
        "outputId": "a320dedb-749e-4a83-fe3d-3cf622f59860",
        "colab": {
          "base_uri": "https://localhost:8080/",
          "height": 33
        }
      },
      "source": [
        "x_train.shape[0]"
      ],
      "execution_count": null,
      "outputs": [
        {
          "output_type": "execute_result",
          "data": {
            "text/plain": [
              "721"
            ]
          },
          "metadata": {
            "tags": []
          },
          "execution_count": 7
        }
      ]
    },
    {
      "cell_type": "code",
      "metadata": {
        "id": "eyp-pZN0-nXY"
      },
      "source": [
        "#create a timehistory class to get a time for building a network\n",
        "class TimeHistory(keras.callbacks.Callback):\n",
        "    def on_train_begin(self, logs={}):\n",
        "        self.times = []\n",
        "\n",
        "    def on_epoch_begin(self, batch, logs={}):\n",
        "        self.epoch_time_start = time.time()\n",
        "\n",
        "    def on_epoch_end(self, batch, logs={}):\n",
        "        self.times.append(time.time() - self.epoch_time_start)"
      ],
      "execution_count": null,
      "outputs": []
    },
    {
      "cell_type": "markdown",
      "metadata": {
        "id": "ouksTOKpVpeo"
      },
      "source": [
        "In the below section we will see how increasing the number of weights affects the neural network"
      ]
    },
    {
      "cell_type": "markdown",
      "metadata": {
        "id": "ugLRFFG6Nwdk"
      },
      "source": [
        "## MODEL 1"
      ]
    },
    {
      "cell_type": "code",
      "metadata": {
        "id": "eZ8rZX2vNtXB",
        "outputId": "da7e3ae7-c7df-4445-a5a6-a97daeea42e2",
        "colab": {
          "base_uri": "https://localhost:8080/",
          "height": 50
        }
      },
      "source": [
        "#create a d-d-1 neural network with sigmoid activation function\n",
        "%%time\n",
        "\n",
        "time_callback = TimeHistory()\n",
        "\n",
        "history = History()\n",
        "\n",
        "model1 = Sequential()\n",
        "model1.add(Dense(8, input_dim = 8, activation = 'sigmoid'))\n",
        "model1.add(Dense(1))\n",
        "\n",
        "model1.compile(loss='mean_squared_error', optimizer='sgd')\n",
        "\n",
        "model1.fit(x_train, y_train, batch_size=721, epochs=50, verbose=0, callbacks=[history,time_callback],validation_data=(x_val,y_val))\n",
        "\n"
      ],
      "execution_count": null,
      "outputs": [
        {
          "output_type": "stream",
          "text": [
            "CPU times: user 996 ms, sys: 42.1 ms, total: 1.04 s\n",
            "Wall time: 990 ms\n"
          ],
          "name": "stdout"
        }
      ]
    },
    {
      "cell_type": "code",
      "metadata": {
        "id": "eSyZUJX9d5aD",
        "outputId": "b2e0579c-50c3-41ac-cc6b-78b1b978d5bd",
        "colab": {
          "base_uri": "https://localhost:8080/",
          "height": 303
        }
      },
      "source": [
        "print(model1.summary())\n",
        "train_mse1 = history.history.get('loss')\n",
        "val_mse1 = history.history.get('val_loss')\n",
        "time_n1 = list(time_callback.times)\n",
        "print('Total time taken ',sum(time_n1))\n",
        "print(train_mse1)\n",
        "print(val_mse1)"
      ],
      "execution_count": null,
      "outputs": [
        {
          "output_type": "stream",
          "text": [
            "Model: \"sequential_1\"\n",
            "_________________________________________________________________\n",
            "Layer (type)                 Output Shape              Param #   \n",
            "=================================================================\n",
            "dense_2 (Dense)              (None, 8)                 72        \n",
            "_________________________________________________________________\n",
            "dense_3 (Dense)              (None, 1)                 9         \n",
            "=================================================================\n",
            "Total params: 81\n",
            "Trainable params: 81\n",
            "Non-trainable params: 0\n",
            "_________________________________________________________________\n",
            "None\n",
            "Total time taken  0.9092552661895752\n",
            "[1576.264404296875, 1423.8665771484375, 1286.851806640625, 1156.6962890625, 1029.17333984375, 903.9701538085938, 784.1680908203125, 673.9042358398438, 576.2836303710938, 492.97381591796875, 424.3376770019531, 369.5471496582031, 326.7778625488281, 293.69830322265625, 268.00665283203125, 247.74276733398438, 231.38186645507812, 217.80738830566406, 206.23745727539062, 196.14501953125, 187.18496704101562, 179.1348114013672, 171.8495635986328, 165.2300262451172, 159.20265197753906, 153.70773315429688, 148.69326782226562, 144.1123504638672, 139.92210388183594, 136.08335876464844, 132.56051635742188, 129.3216094970703, 126.33792877197266, 123.58390808105469, 121.03681945800781, 118.67648315429688, 116.48499298095703, 114.44647979736328, 112.54679107666016, 110.77336883544922, 109.114990234375, 107.5616226196289, 106.10433959960938, 104.73509216308594, 103.4466781616211, 102.23255157470703, 101.08689880371094, 100.00440216064453, 98.98027038574219, 98.01010131835938]\n",
            "[1459.2691650390625, 1319.920654296875, 1187.2044677734375, 1056.6922607421875, 928.0411376953125, 804.5225830078125, 690.5316162109375, 589.3724975585938, 502.8722229003906, 431.512451171875, 374.5096740722656, 330.0128479003906, 295.6318359375, 269.001220703125, 248.1007537841797, 231.3506317138672, 217.5853271484375, 205.9806671142578, 195.9733428955078, 187.18820190429688, 179.37879943847656, 172.38189697265625, 166.08531188964844, 160.40650939941406, 155.27972412109375, 150.64883422851562, 146.4639129638672, 142.67950439453125, 139.2543182373047, 136.15060424804688, 133.33433532714844, 130.77487182617188, 128.44480895996094, 126.31974029541016, 124.37799835205078, 122.60025024414062, 120.96949768066406, 119.47057342529297, 118.09009552001953, 116.81616973876953, 115.63824462890625, 114.5469741821289, 113.53400421142578, 112.5919189453125, 111.71407318115234, 110.8945541381836, 110.12808227539062, 109.40988159179688, 108.73564910888672, 108.10154724121094]\n"
          ],
          "name": "stdout"
        }
      ]
    },
    {
      "cell_type": "markdown",
      "metadata": {
        "id": "RYVBDHYVW79k"
      },
      "source": [
        "# MODEL 2"
      ]
    },
    {
      "cell_type": "code",
      "metadata": {
        "id": "oHgN9jClW_Q6",
        "outputId": "ddf12620-7f51-4066-b344-5272c402bcd7",
        "colab": {
          "base_uri": "https://localhost:8080/",
          "height": 50
        }
      },
      "source": [
        "#create a d-2d-1 neural network with sigmoid activation function\n",
        "%%time\n",
        "\n",
        "time_callback = TimeHistory()\n",
        "\n",
        "history = History()\n",
        "\n",
        "model2 = Sequential()\n",
        "model2.add(Dense(16, input_dim = 8, activation = 'sigmoid'))\n",
        "model2.add(Dense(1))\n",
        "\n",
        "model2.compile(loss='mean_squared_error', optimizer='sgd')\n",
        "\n",
        "model2.fit(x_train, y_train, batch_size=721, epochs=50, verbose=0, callbacks=[history,time_callback],validation_data=(x_val,y_val))\n",
        "\n"
      ],
      "execution_count": null,
      "outputs": [
        {
          "output_type": "stream",
          "text": [
            "CPU times: user 1 s, sys: 35.2 ms, total: 1.04 s\n",
            "Wall time: 992 ms\n"
          ],
          "name": "stdout"
        }
      ]
    },
    {
      "cell_type": "code",
      "metadata": {
        "id": "XI0vORlVeWHK",
        "outputId": "5b877569-4bd4-40a8-b027-4f92f3b8795c",
        "colab": {
          "base_uri": "https://localhost:8080/",
          "height": 303
        }
      },
      "source": [
        "print(model2.summary())\n",
        "train_mse2 = history.history.get('loss')\n",
        "val_mse2 = history.history.get('val_loss')\n",
        "time_n2 = list(time_callback.times)\n",
        "print('Total time taken ',sum(time_n2))\n",
        "print(train_mse2)\n",
        "print(val_mse2)"
      ],
      "execution_count": null,
      "outputs": [
        {
          "output_type": "stream",
          "text": [
            "Model: \"sequential_3\"\n",
            "_________________________________________________________________\n",
            "Layer (type)                 Output Shape              Param #   \n",
            "=================================================================\n",
            "dense_6 (Dense)              (None, 16)                144       \n",
            "_________________________________________________________________\n",
            "dense_7 (Dense)              (None, 1)                 17        \n",
            "=================================================================\n",
            "Total params: 161\n",
            "Trainable params: 161\n",
            "Non-trainable params: 0\n",
            "_________________________________________________________________\n",
            "None\n",
            "Total time taken  0.9043679237365723\n",
            "[1515.1787109375, 1279.5655517578125, 1079.394287109375, 901.0869750976562, 740.9488525390625, 600.3626708984375, 482.3597412109375, 388.7633361816406, 318.5535583496094, 268.0823059082031, 232.55528259277344, 207.4727783203125, 189.33447265625, 175.71780395507812, 165.0651092529297, 156.41586303710938, 149.1854248046875, 143.01336669921875, 137.66893005371094, 132.9957275390625, 128.881103515625, 125.23904418945312, 122.0009765625, 119.11041259765625, 116.52010345458984, 114.18989562988281, 112.08568572998047, 110.17818450927734, 108.44232940673828, 106.85661315917969, 105.40258026123047, 104.0643081665039, 102.82819366455078, 101.6824951171875, 100.61705780029297, 99.62316131591797, 98.69322204589844, 97.8207778930664, 97.0001220703125, 96.22636413574219, 95.49522399902344, 94.80290985107422, 94.14620208740234, 93.522216796875, 92.92839050292969, 92.3625259399414, 91.82257843017578, 91.30683135986328, 90.81366729736328, 90.34166717529297]\n",
            "[1311.33447265625, 1105.979248046875, 922.2390747070312, 756.4682006835938, 610.407470703125, 487.577880859375, 390.1930847167969, 317.3752136230469, 265.3804016113281, 229.1903533935547, 204.0590057373047, 186.27578735351562, 173.26058959960938, 163.3463592529297, 155.50054931640625, 149.0936737060547, 143.73876953125, 139.1905517578125, 135.28553771972656, 131.90838623046875, 128.97280883789062, 126.41121673583984, 124.16875457763672, 122.19987487792969, 120.4662094116211, 118.93519592285156, 117.57903289794922, 116.3740005493164, 115.29974365234375, 114.33882141113281, 113.47631072998047, 112.69945526123047, 111.99724578857422, 111.36027526855469, 110.78044128417969, 110.25080871582031, 109.76539611816406, 109.31906127929688, 108.90733337402344, 108.52639770507812, 108.17289733886719, 107.84397888183594, 107.53710174560547, 107.2500991821289, 106.98102569580078, 106.72820281982422, 106.49016571044922, 106.26557159423828, 106.05326843261719, 105.85221862792969]\n"
          ],
          "name": "stdout"
        }
      ]
    },
    {
      "cell_type": "markdown",
      "metadata": {
        "id": "gaFKfI6hXCSD"
      },
      "source": [
        "## MODEL 3"
      ]
    },
    {
      "cell_type": "code",
      "metadata": {
        "id": "YJ_Rw_yWXFXK",
        "outputId": "b230a283-149b-4939-930d-8901582f13e0",
        "colab": {
          "base_uri": "https://localhost:8080/",
          "height": 50
        }
      },
      "source": [
        "#create a d-3d-1 neural network with sigmoid activation function\n",
        "%%time\n",
        "\n",
        "time_callback = TimeHistory()\n",
        "\n",
        "history = History()\n",
        "\n",
        "model3 = Sequential()\n",
        "model3.add(Dense(24, input_dim = 8, activation = 'sigmoid'))\n",
        "model3.add(Dense(1))\n",
        "\n",
        "model3.compile(loss='mean_squared_error', optimizer='sgd')\n",
        "\n",
        "model3.fit(x_train, y_train, batch_size=721, epochs=50, verbose=0, callbacks=[history,time_callback],validation_data=(x_val,y_val))"
      ],
      "execution_count": null,
      "outputs": [
        {
          "output_type": "stream",
          "text": [
            "CPU times: user 987 ms, sys: 30.2 ms, total: 1.02 s\n",
            "Wall time: 975 ms\n"
          ],
          "name": "stdout"
        }
      ]
    },
    {
      "cell_type": "code",
      "metadata": {
        "id": "T_BlMXX6cWzc",
        "outputId": "cda5d2b8-bc5a-42b3-ffd0-324ef5d0d773",
        "colab": {
          "base_uri": "https://localhost:8080/",
          "height": 303
        }
      },
      "source": [
        "print(model3.summary())\n",
        "train_mse3 = history.history.get('loss')\n",
        "val_mse3 = history.history.get('val_loss')\n",
        "time_n3 = list(time_callback.times)\n",
        "print('Total time taken ',sum(time_n3))\n",
        "print(train_mse3)\n",
        "print(val_mse3)"
      ],
      "execution_count": null,
      "outputs": [
        {
          "output_type": "stream",
          "text": [
            "Model: \"sequential_4\"\n",
            "_________________________________________________________________\n",
            "Layer (type)                 Output Shape              Param #   \n",
            "=================================================================\n",
            "dense_8 (Dense)              (None, 24)                216       \n",
            "_________________________________________________________________\n",
            "dense_9 (Dense)              (None, 1)                 25        \n",
            "=================================================================\n",
            "Total params: 241\n",
            "Trainable params: 241\n",
            "Non-trainable params: 0\n",
            "_________________________________________________________________\n",
            "None\n",
            "Total time taken  0.8878509998321533\n",
            "[1496.575439453125, 1176.09912109375, 927.2498168945312, 726.0326538085938, 564.5851440429688, 439.7796936035156, 347.9714050292969, 283.467529296875, 239.41966247558594, 209.41000366210938, 188.46385192871094, 173.21905517578125, 161.59791564941406, 152.37359619140625, 144.82489013671875, 138.51455688476562, 133.1619873046875, 128.57456970214844, 124.61175537109375, 121.16573333740234, 118.15100860595703, 115.49835205078125, 113.15093994140625, 111.06168365478516, 109.19144439697266, 107.50748443603516, 105.982421875, 104.5932846069336, 103.32074737548828, 102.14849090576172, 101.06281280517578, 100.05208587646484, 99.1064682006836, 98.21759796142578, 97.3783950805664, 96.582763671875, 95.8255386352539, 95.10235595703125, 94.409423828125, 93.74352264404297, 93.10194396972656, 92.48230743408203, 91.88265228271484, 91.30133819580078, 90.73694610595703, 90.18833923339844, 89.65453338623047, 89.1347885131836, 88.62842559814453, 88.1349868774414]\n",
            "[1205.1168212890625, 949.45947265625, 741.7132568359375, 574.2512817382812, 444.4222717285156, 348.95599365234375, 282.2405700683594, 237.23233032226562, 207.18206787109375, 186.7823944091797, 172.40814208984375, 161.80189514160156, 153.62648010253906, 147.09982299804688, 141.75515747070312, 137.30108642578125, 133.54432678222656, 130.3485107421875, 127.6120834350586, 125.25614166259766, 123.21769714355469, 121.44548034667969, 119.89714813232422, 118.53759765625, 117.33747863769531, 116.27222442626953, 115.32112121582031, 114.46680450439453, 113.6946029663086, 112.99213409423828, 112.34888458251953, 111.75596618652344, 111.2058334350586, 110.69206237792969, 110.20919036865234, 109.7525634765625, 109.3182373046875, 108.90286254882812, 108.5035400390625, 108.11793518066406, 107.74403381347656, 107.38017272949219, 107.02501678466797, 106.67752838134766, 106.33686065673828, 106.00239562988281, 105.67375183105469, 105.35062408447266, 105.03288269042969, 104.72046661376953]\n"
          ],
          "name": "stdout"
        }
      ]
    },
    {
      "cell_type": "code",
      "metadata": {
        "id": "CIREJLQfw4PF",
        "outputId": "850614ef-10a5-4d40-97c0-ee52894be266",
        "colab": {
          "base_uri": "https://localhost:8080/",
          "height": 295
        }
      },
      "source": [
        "plt.plot(val_mse1)\n",
        "plt.plot(val_mse2)\n",
        "plt.plot(val_mse3)\n",
        "plt.xlabel('Number of epochs')\n",
        "plt.ylabel('Mean_Squarred_Error')\n",
        "plt.title('comparison between different model\\'s change in MSE with epoch')\n",
        "plt.legend(['val_mse1', 'val_mse2','val_mse3'], loc='upper right')\n",
        "plt.show()"
      ],
      "execution_count": null,
      "outputs": [
        {
          "output_type": "display_data",
          "data": {
            "image/png": "[encoded data removed]",
            "text/plain": [
              "<Figure size 432x288 with 1 Axes>"
            ]
          },
          "metadata": {
            "tags": [],
            "needs_background": "light"
          }
        }
      ]
    },
    {
      "cell_type": "markdown",
      "metadata": {
        "id": "xZQAxN-sW27O"
      },
      "source": [
        "Based on the above graph we can see that the model with highest number of nodes is able to achieve the minimum MSE with least number of epochs, relative to the other models."
      ]
    },
    {
      "cell_type": "markdown",
      "metadata": {
        "id": "RazJkNtAX4cV"
      },
      "source": [
        "In the below section we will see how increasing the number of layers affect the MSE of neural network."
      ]
    },
    {
      "cell_type": "markdown",
      "metadata": {
        "id": "qU7HXSpxCL-a"
      },
      "source": [
        "# INCREASING NUMBER OF LAYERS"
      ]
    },
    {
      "cell_type": "markdown",
      "metadata": {
        "id": "8PtTG4Vqwiha"
      },
      "source": [
        "# MODEL 1"
      ]
    },
    {
      "cell_type": "code",
      "metadata": {
        "id": "CzZYD6ppwhCq",
        "outputId": "be6a7d01-7eb5-425d-c2a7-87becf32a1fe",
        "colab": {
          "base_uri": "https://localhost:8080/",
          "height": 50
        }
      },
      "source": [
        "#create a d-d-d-1 neural network with sigmoid activation function\n",
        "%%time\n",
        "\n",
        "time_callback = TimeHistory()\n",
        "\n",
        "history = History()\n",
        "\n",
        "model_l1 = Sequential()\n",
        "model_l1.add(Dense(8, input_dim = 8, activation = 'sigmoid'))\n",
        "model_l1.add(Dense(8, activation = 'sigmoid'))\n",
        "model_l1.add(Dense(1))\n",
        "\n",
        "model_l1.compile(loss='mean_squared_error', optimizer='sgd')\n",
        "\n",
        "model_l1.fit(x_train, y_train, batch_size=721, epochs=50, verbose=0, callbacks=[history,time_callback],validation_data=(x_val,y_val))"
      ],
      "execution_count": null,
      "outputs": [
        {
          "output_type": "stream",
          "text": [
            "CPU times: user 1.02 s, sys: 26.9 ms, total: 1.05 s\n",
            "Wall time: 998 ms\n"
          ],
          "name": "stdout"
        }
      ]
    },
    {
      "cell_type": "code",
      "metadata": {
        "id": "vo7-zOZWy1HT",
        "outputId": "0f1e6356-52d9-45f8-b995-bd24b8382345",
        "colab": {
          "base_uri": "https://localhost:8080/",
          "height": 337
        }
      },
      "source": [
        "print(model_l1.summary())\n",
        "train_mse_l1 = history.history.get('loss')\n",
        "val_mse_l1 = history.history.get('val_loss')\n",
        "time_l1 = list(time_callback.times)\n",
        "print('Total time taken ',sum(time_l1))\n",
        "print(train_mse_l1)\n",
        "print(val_mse_l1)"
      ],
      "execution_count": null,
      "outputs": [
        {
          "output_type": "stream",
          "text": [
            "Model: \"sequential_6\"\n",
            "_________________________________________________________________\n",
            "Layer (type)                 Output Shape              Param #   \n",
            "=================================================================\n",
            "dense_13 (Dense)             (None, 8)                 72        \n",
            "_________________________________________________________________\n",
            "dense_14 (Dense)             (None, 8)                 72        \n",
            "_________________________________________________________________\n",
            "dense_15 (Dense)             (None, 1)                 9         \n",
            "=================================================================\n",
            "Total params: 153\n",
            "Trainable params: 153\n",
            "Non-trainable params: 0\n",
            "_________________________________________________________________\n",
            "None\n",
            "Total time taken  0.8954696655273438\n",
            "[1603.10693359375, 1449.699951171875, 1313.576171875, 1168.935546875, 1015.2510375976562, 865.9354858398438, 732.630126953125, 619.9049682617188, 528.5533447265625, 457.4789733886719, 404.0693054199219, 364.9629821777344, 336.8287353515625, 316.7980041503906, 302.5945129394531, 292.4972839355469, 285.2433166503906, 279.9244384765625, 275.8966369628906, 272.70745849609375, 270.04046630859375, 267.67413330078125, 265.452880859375, 263.266357421875, 261.035400390625, 258.7027893066406, 256.2269287109375, 253.57823181152344, 250.73667907714844, 247.69070434570312, 244.43658447265625, 240.9778289794922, 237.32456970214844, 233.4927978515625, 229.50279235839844, 225.37753295898438, 221.14088439941406, 216.81588745117188, 212.42330932617188, 207.9815216064453, 203.5061798095703, 199.0111846923828, 194.5091094970703, 190.01231384277344, 185.53309631347656, 181.0840301513672, 176.67791748046875, 172.32763671875, 168.04592895507812, 163.84515380859375]\n",
            "[1483.85693359375, 1345.04833984375, 1197.3702392578125, 1040.2857666015625, 887.4119262695312, 750.5682983398438, 634.42333984375, 539.8577880859375, 465.85821533203125, 409.8626403808594, 368.5223083496094, 338.4906311035156, 316.8689880371094, 301.3453674316406, 290.16278076171875, 282.02435302734375, 275.9913330078125, 271.3932189941406, 267.75482177734375, 264.7408447265625, 262.1141662597656, 259.70648193359375, 257.3973083496094, 255.0993194580078, 252.74888610839844, 250.29933166503906, 247.7167510986328, 244.97775268554688, 242.06747436523438, 238.97914123535156, 235.7129364013672, 232.2756805419922, 228.67965698242188, 224.94143676757812, 221.08042907714844, 217.11715698242188, 213.07196044921875, 208.9637908935547, 204.80995178222656, 200.62600708007812, 196.4263153076172, 192.2245330810547, 188.03431701660156, 183.86936950683594, 179.74349975585938, 175.6705780029297, 171.66444396972656, 167.73838806152344, 163.9052276611328, 160.17672729492188]\n"
          ],
          "name": "stdout"
        }
      ]
    },
    {
      "cell_type": "markdown",
      "metadata": {
        "id": "p64DtSdqzrQI"
      },
      "source": [
        "# MODEL 2"
      ]
    },
    {
      "cell_type": "code",
      "metadata": {
        "id": "PngFYl9hzmSi",
        "outputId": "a78dc494-2a65-4585-8b2a-b6f133a8b347",
        "colab": {
          "base_uri": "https://localhost:8080/",
          "height": 50
        }
      },
      "source": [
        "#create a d-d-d-d-1 neural network with sigmoid activation function\n",
        "%%time\n",
        "\n",
        "time_callback = TimeHistory()\n",
        "history = History()\n",
        "\n",
        "model_l2 = Sequential()\n",
        "model_l2.add(Dense(8, input_dim = 8, activation = 'sigmoid'))\n",
        "model_l2.add(Dense(8, activation = 'sigmoid'))\n",
        "model_l2.add(Dense(8, activation = 'sigmoid'))\n",
        "model_l2.add(Dense(1))\n",
        "\n",
        "model_l2.compile(loss='mean_squared_error', optimizer='sgd')\n",
        "\n",
        "model_l2.fit(x_train, y_train, batch_size=721, epochs=50, verbose=0, callbacks=[history,time_callback],validation_data=(x_val,y_val))"
      ],
      "execution_count": null,
      "outputs": [
        {
          "output_type": "stream",
          "text": [
            "CPU times: user 1.07 s, sys: 32.1 ms, total: 1.1 s\n",
            "Wall time: 1.04 s\n"
          ],
          "name": "stdout"
        }
      ]
    },
    {
      "cell_type": "code",
      "metadata": {
        "id": "fRH9-sNyz7rw",
        "outputId": "8df41cf3-aa6e-41c6-9d62-107af7637db2",
        "colab": {
          "base_uri": "https://localhost:8080/",
          "height": 370
        }
      },
      "source": [
        "print(model_l2.summary())\n",
        "train_mse_l2 = history.history.get('loss')\n",
        "val_mse_l2 = history.history.get('val_loss')\n",
        "time_l2 = list(time_callback.times)\n",
        "print('Total time taken ',sum(time_l2))\n",
        "print(train_mse_l2)\n",
        "print(val_mse_l2)"
      ],
      "execution_count": null,
      "outputs": [
        {
          "output_type": "stream",
          "text": [
            "Model: \"sequential_7\"\n",
            "_________________________________________________________________\n",
            "Layer (type)                 Output Shape              Param #   \n",
            "=================================================================\n",
            "dense_16 (Dense)             (None, 8)                 72        \n",
            "_________________________________________________________________\n",
            "dense_17 (Dense)             (None, 8)                 72        \n",
            "_________________________________________________________________\n",
            "dense_18 (Dense)             (None, 8)                 72        \n",
            "_________________________________________________________________\n",
            "dense_19 (Dense)             (None, 1)                 9         \n",
            "=================================================================\n",
            "Total params: 225\n",
            "Trainable params: 225\n",
            "Non-trainable params: 0\n",
            "_________________________________________________________________\n",
            "None\n",
            "Total time taken  0.9413566589355469\n",
            "[1498.902587890625, 1283.2452392578125, 1083.02197265625, 894.7217407226562, 732.923095703125, 604.5943603515625, 507.5687561035156, 436.7124328613281, 386.55816650390625, 351.9002685546875, 328.298583984375, 312.34625244140625, 301.600341796875, 294.3699645996094, 289.5040588378906, 286.22503662109375, 284.0099182128906, 282.50732421875, 281.4815979003906, 280.774658203125, 280.2806701660156, 279.92840576171875, 279.67041015625, 279.474609375, 279.3195495605469, 279.19085693359375, 279.0788269042969, 278.9768371582031, 278.8804931640625, 278.78668212890625, 278.6933288574219, 278.59881591796875, 278.502197265625, 278.4025573730469, 278.2991943359375, 278.19158935546875, 278.0792236328125, 277.96160888671875, 277.8382568359375, 277.708740234375, 277.5724792480469, 277.428955078125, 277.2775573730469, 277.1177062988281, 276.94866943359375, 276.7697448730469, 276.5799865722656, 276.3785705566406, 276.16448974609375, 275.9366455078125]\n",
            "[1314.875244140625, 1110.5435791015625, 917.8836059570312, 751.7804565429688, 619.4608154296875, 518.8598022460938, 444.87744140625, 392.0528564453125, 355.1562805175781, 329.6997375488281, 312.2202453613281, 300.2210693359375, 291.9639587402344, 286.25762939453125, 282.29132080078125, 279.51434326171875, 277.5527648925781, 276.1523742675781, 275.13983154296875, 274.396728515625, 273.8418273925781, 273.4190979003906, 273.0897216796875, 272.82672119140625, 272.6109924316406, 272.4291687011719, 272.2716064453125, 272.1312561035156, 272.0031433105469, 271.88336181640625, 271.76910400390625, 271.6581726074219, 271.548828125, 271.43963623046875, 271.3294677734375, 271.21734619140625, 271.1024169921875, 270.98388671875, 270.8610534667969, 270.7332763671875, 270.59979248046875, 270.4599914550781, 270.31317138671875, 270.1585388183594, 269.99542236328125, 269.8229675292969, 269.64031982421875, 269.4465637207031, 269.2406005859375, 269.0212707519531]\n"
          ],
          "name": "stdout"
        }
      ]
    },
    {
      "cell_type": "markdown",
      "metadata": {
        "id": "Nzp-8CpB0GJZ"
      },
      "source": [
        "# MODEL 3"
      ]
    },
    {
      "cell_type": "code",
      "metadata": {
        "id": "0grEONy00BPr",
        "outputId": "787aebe5-5dbd-4eb5-a781-c4eebc30dd52",
        "colab": {
          "base_uri": "https://localhost:8080/",
          "height": 50
        }
      },
      "source": [
        "#create a d-d-d-d-d-1 neural network with sigmoid activation function\n",
        "%%time\n",
        "\n",
        "time_callback = TimeHistory()\n",
        "history = History()\n",
        "\n",
        "model_l3 = Sequential()\n",
        "model_l3.add(Dense(8, input_dim = 8, activation = 'sigmoid'))\n",
        "model_l3.add(Dense(8, activation = 'sigmoid'))\n",
        "model_l3.add(Dense(8, activation = 'sigmoid'))\n",
        "model_l3.add(Dense(8, activation = 'sigmoid'))\n",
        "model_l3.add(Dense(1))\n",
        "\n",
        "model_l3.compile(loss='mean_squared_error', optimizer='sgd')\n",
        "\n",
        "model_l3.fit(x_train, y_train, batch_size=721, epochs=50, verbose=0, callbacks=[history,time_callback],validation_data=(x_val,y_val))"
      ],
      "execution_count": null,
      "outputs": [
        {
          "output_type": "stream",
          "text": [
            "CPU times: user 1.32 s, sys: 28.9 ms, total: 1.35 s\n",
            "Wall time: 1.29 s\n"
          ],
          "name": "stdout"
        }
      ]
    },
    {
      "cell_type": "code",
      "metadata": {
        "id": "i01lgGmD0aX5",
        "outputId": "91177c6c-fde4-4cb7-a2d2-e80099311129",
        "colab": {
          "base_uri": "https://localhost:8080/",
          "height": 403
        }
      },
      "source": [
        "print(model_l3.summary())\n",
        "train_mse_l3 = history.history.get('loss')\n",
        "val_mse_l3 = history.history.get('val_loss')\n",
        "time_l3 = list(time_callback.times)\n",
        "print('Total time taken ',sum(time_l3))\n",
        "print(train_mse_l3)\n",
        "print(val_mse_l3)"
      ],
      "execution_count": null,
      "outputs": [
        {
          "output_type": "stream",
          "text": [
            "Model: \"sequential_9\"\n",
            "_________________________________________________________________\n",
            "Layer (type)                 Output Shape              Param #   \n",
            "=================================================================\n",
            "dense_25 (Dense)             (None, 8)                 72        \n",
            "_________________________________________________________________\n",
            "dense_26 (Dense)             (None, 8)                 72        \n",
            "_________________________________________________________________\n",
            "dense_27 (Dense)             (None, 8)                 72        \n",
            "_________________________________________________________________\n",
            "dense_28 (Dense)             (None, 8)                 72        \n",
            "_________________________________________________________________\n",
            "dense_29 (Dense)             (None, 1)                 9         \n",
            "=================================================================\n",
            "Total params: 297\n",
            "Trainable params: 297\n",
            "Non-trainable params: 0\n",
            "_________________________________________________________________\n",
            "None\n",
            "Total time taken  1.1905553340911865\n",
            "[1628.605712890625, 1442.134765625, 1286.9454345703125, 1130.2431640625, 969.0447998046875, 814.58203125, 679.6910400390625, 571.1148681640625, 488.4501647949219, 427.6324462890625, 383.8778076171875, 352.82708740234375, 330.9590148925781, 315.6302490234375, 304.9252624511719, 297.4756164550781, 292.30926513671875, 288.73822021484375, 286.2772216796875, 284.58563232421875, 283.42535400390625, 282.6306457519531, 282.0869140625, 281.71490478515625, 281.4602355957031, 281.2856140136719, 281.16552734375, 281.0824890136719, 281.02471923828125, 280.9840393066406, 280.9549865722656, 280.9337463378906, 280.91790771484375, 280.9056701660156, 280.8958435058594, 280.8876647949219, 280.8805847167969, 280.874267578125, 280.8684387207031, 280.8629150390625, 280.8576354980469, 280.8524475097656, 280.8473815917969, 280.84234619140625, 280.83734130859375, 280.832275390625, 280.8272705078125, 280.822265625, 280.8171691894531, 280.81207275390625]\n",
            "[1476.791015625, 1318.703369140625, 1158.8345947265625, 994.0535278320312, 835.7394409179688, 697.0006713867188, 584.8218383789062, 498.9294128417969, 435.2958679199219, 389.1274719238281, 356.0296325683594, 332.4350891113281, 315.654541015625, 303.7314758300781, 295.26177978515625, 289.2431335449219, 284.96142578125, 281.90911865234375, 279.7263488769531, 278.1587219238281, 277.0267639160156, 276.2040100097656, 275.6015319824219, 275.15655517578125, 274.824951171875, 274.5754089355469, 274.3857116699219, 274.2400207519531, 274.1269836425781, 274.0383605957031, 273.9681396484375, 273.9119873046875, 273.8665466308594, 273.82952880859375, 273.79901123046875, 273.7735595703125, 273.75213623046875, 273.7339782714844, 273.7183532714844, 273.70477294921875, 273.6928405761719, 273.6822204589844, 273.6726989746094, 273.6640319824219, 273.6560363769531, 273.6486511230469, 273.6417236328125, 273.6351013183594, 273.6287841796875, 273.6227111816406]\n"
          ],
          "name": "stdout"
        }
      ]
    },
    {
      "cell_type": "code",
      "metadata": {
        "id": "CpYgsNrh0fFX",
        "outputId": "d12d28fe-1e95-482a-8c5b-ae1e9ff5935a",
        "colab": {
          "base_uri": "https://localhost:8080/",
          "height": 295
        }
      },
      "source": [
        "plt.plot(val_mse_l1)\n",
        "plt.plot(val_mse_l2)\n",
        "plt.plot(val_mse_l3)\n",
        "plt.xlabel('Number of epochs')\n",
        "plt.ylabel('Mean_Squarred_Error')\n",
        "plt.title('comparison between different model\\'s change in MSE with epoch')\n",
        "plt.legend(['val_mse1', 'val_mse2','val_mse3'], loc='upper right')\n",
        "plt.show()"
      ],
      "execution_count": null,
      "outputs": [
        {
          "output_type": "display_data",
          "data": {
            "image/png": "[encoded data removed]",
            "text/plain": [
              "<Figure size 432x288 with 1 Axes>"
            ]
          },
          "metadata": {
            "tags": [],
            "needs_background": "light"
          }
        }
      ]
    },
    {
      "cell_type": "markdown",
      "metadata": {
        "id": "PHlxID7zYPTd"
      },
      "source": [
        "The above graph shows that model with 3 layers is able to achieve least MSE with less number of epochs, relative to models with 2 and 4 layers."
      ]
    },
    {
      "cell_type": "markdown",
      "metadata": {
        "id": "MAx50Ms5sUoP"
      },
      "source": [
        "# COMPUTATION EFFORT\n",
        "\n",
        "\n",
        "\n"
      ]
    },
    {
      "cell_type": "markdown",
      "metadata": {
        "id": "60bQMlWPaXkU"
      },
      "source": [
        "Based on time:"
      ]
    },
    {
      "cell_type": "code",
      "metadata": {
        "id": "kVe9p-pmh8OZ",
        "outputId": "fbbd0022-1a16-4044-8dad-5bac5d4e4174",
        "colab": {
          "base_uri": "https://localhost:8080/",
          "height": 280
        }
      },
      "source": [
        "y = [sum(time_n1), sum(time_n2), sum(time_n3), sum(time_l1), sum(time_l2), sum(time_l3)]\n",
        "z = [val_mse1[-1],val_mse2[-1],val_mse3[-1],val_mse_l1[-1], val_mse_l2[-1], val_mse_l3[-1]]\n",
        "n = ['Model_1n', 'Model_2n', 'Model_3n', 'Model_1l', 'Model_2l', 'Model_3l']\n",
        "\n",
        "fig, ax = plt.subplots()\n",
        "ax.scatter(z, y)\n",
        "plt.ylabel('Total time elasped for building a model')\n",
        "plt.xlabel('MSE')\n",
        "\n",
        "for i, txt in enumerate(n):\n",
        "    ax.annotate(txt, (z[i], y[i]))"
      ],
      "execution_count": null,
      "outputs": [
        {
          "output_type": "display_data",
          "data": {
            "image/png": "[encoded data removed]",
            "text/plain": [
              "<Figure size 432x288 with 1 Axes>"
            ]
          },
          "metadata": {
            "tags": [],
            "needs_background": "light"
          }
        }
      ]
    },
    {
      "cell_type": "markdown",
      "metadata": {
        "id": "x5kuZlroY3b2"
      },
      "source": [
        "In the above figure we can see time elasped for building a neural network. The model with more number of layers are taking more time to build, while models with variation only in number of neurons are taking less time to build. Also, models with variation only in number of neuron can get less MSE in less time. This shows that models with less complexity might achieve better performance. This conclusion might be dependent on the datasets. "
      ]
    },
    {
      "cell_type": "code",
      "metadata": {
        "id": "mpzNF8eIm-yA",
        "outputId": "ed0a08bc-bdbc-400c-eea0-aac9c6bf1e18",
        "colab": {
          "base_uri": "https://localhost:8080/",
          "height": 296
        }
      },
      "source": [
        "#we can avoid using epoch for calculation of the computations because we have 50 epochs in every models\n",
        "\n",
        "y = [model1.count_params(), model2.count_params(), model3.count_params(), model_l1.count_params(), model_l2.count_params(), model_l3.count_params()]\n",
        "print(y)\n",
        "\n",
        "z = [val_mse1[-1],val_mse2[-1],val_mse3[-1],val_mse_l1[-1], val_mse_l2[-1], val_mse_l3[-1]]\n",
        "n = ['Model_1n', 'Model_2n', 'Model_3n', 'Model_1l', 'Model_2l', 'Model_3l']\n",
        "\n",
        "fig, ax = plt.subplots()\n",
        "ax.scatter(z, y)\n",
        "plt.ylabel('Total Parameters')\n",
        "plt.xlabel('MSE')\n",
        "\n",
        "for i, txt in enumerate(n):\n",
        "    ax.annotate(txt, (z[i], y[i]))"
      ],
      "execution_count": null,
      "outputs": [
        {
          "output_type": "stream",
          "text": [
            "[81, 161, 241, 153, 225, 297]\n"
          ],
          "name": "stdout"
        },
        {
          "output_type": "display_data",
          "data": {
            "image/png": "[encoded data removed]",
            "text/plain": [
              "<Figure size 432x288 with 1 Axes>"
            ]
          },
          "metadata": {
            "tags": [],
            "needs_background": "light"
          }
        }
      ]
    },
    {
      "cell_type": "markdown",
      "metadata": {
        "id": "-z74-QBNbnoa"
      },
      "source": [
        "The above graph shows the relationship between total number of parameters and MSE score of the model. In the graph we can see that the model_1n, model_2n and model_3n achieves less MSE. However, the simplest model i.e. model_1n is able to achieve the least MSE and least parameters. "
      ]
    },
    {
      "cell_type": "markdown",
      "metadata": {
        "id": "dbHhOQnmBx2w"
      },
      "source": [
        "# PERFORMANCE COMPARISON AFTER LARGE NUMBER OF COMPUTATIONS (EPOCHS)"
      ]
    },
    {
      "cell_type": "markdown",
      "metadata": {
        "id": "Hj-xtzUICoXN"
      },
      "source": [
        "# MODEL 1"
      ]
    },
    {
      "cell_type": "code",
      "metadata": {
        "id": "AQdNfxHtuQCt",
        "outputId": "5ab8533a-8cee-43d1-f073-7ec0890a05c6",
        "colab": {
          "base_uri": "https://localhost:8080/",
          "height": 50
        }
      },
      "source": [
        "#create a d-3d-1 neural network with sigmoid activation function\n",
        "%%time\n",
        "\n",
        "time_callback = TimeHistory()\n",
        "\n",
        "history = History()\n",
        "\n",
        "model_c1 = Sequential()\n",
        "model_c1.add(Dense(24, input_dim = 8, activation = 'sigmoid'))\n",
        "model_c1.add(Dense(1))\n",
        "\n",
        "model_c1.compile(loss='mean_squared_error', optimizer='sgd')\n",
        "\n",
        "model_c1.fit(x_train, y_train, batch_size=721, epochs=100, verbose=0, callbacks=[history,time_callback],validation_data=(x_val,y_val))"
      ],
      "execution_count": null,
      "outputs": [
        {
          "output_type": "stream",
          "text": [
            "CPU times: user 1.63 s, sys: 64.6 ms, total: 1.69 s\n",
            "Wall time: 1.59 s\n"
          ],
          "name": "stdout"
        }
      ]
    },
    {
      "cell_type": "code",
      "metadata": {
        "id": "79T1x2gcDtsx",
        "outputId": "15a13fdc-4224-4304-d4da-08e55b153ab8",
        "colab": {
          "base_uri": "https://localhost:8080/",
          "height": 303
        }
      },
      "source": [
        "print(model_c1.summary())\n",
        "train_mse_c1 = history.history.get('loss')\n",
        "val_mse_c1 = history.history.get('val_loss')\n",
        "time_c1 = list(time_callback.times)\n",
        "print('Total time taken ',sum(time_c1))\n",
        "print(train_mse_c1)\n",
        "print(val_mse_c1)"
      ],
      "execution_count": null,
      "outputs": [
        {
          "output_type": "stream",
          "text": [
            "Model: \"sequential_12\"\n",
            "_________________________________________________________________\n",
            "Layer (type)                 Output Shape              Param #   \n",
            "=================================================================\n",
            "dense_34 (Dense)             (None, 24)                216       \n",
            "_________________________________________________________________\n",
            "dense_35 (Dense)             (None, 1)                 25        \n",
            "=================================================================\n",
            "Total params: 241\n",
            "Trainable params: 241\n",
            "Non-trainable params: 0\n",
            "_________________________________________________________________\n",
            "None\n",
            "Total time taken  1.4878699779510498\n",
            "[1596.21240234375, 1246.1123046875, 979.755126953125, 764.9810791015625, 591.834716796875, 457.2218322753906, 357.909423828125, 288.2468566894531, 240.9965362548828, 209.1720733642578, 187.27992248535156, 171.58236694335938, 159.7679901123047, 150.48016357421875, 142.9318084716797, 136.65451049804688, 131.3533935546875, 126.82917785644531, 122.93766021728516, 119.56869506835938, 116.635009765625, 114.06587982177734, 111.80326843261719, 109.79914855957031, 108.01365661621094, 106.41358947753906, 104.97125244140625, 103.66349792480469, 102.47098541259766, 101.37745666503906, 100.36929321289062, 99.43507385253906, 98.56507873535156, 97.75116729736328, 96.98641204833984, 96.26492309570312, 95.58168029785156, 94.93234252929688, 94.31330108642578, 93.72129821777344, 93.1535873413086, 92.60777282714844, 92.08170318603516, 91.57355499267578, 91.0816650390625, 90.60458374023438, 90.14100646972656, 89.68977355957031, 89.24981689453125, 88.8201904296875, 88.40005493164062, 87.98860168457031, 87.58515930175781, 87.1890869140625, 86.79981994628906, 86.41682434082031, 86.03966522216797, 85.66796112060547, 85.30134582519531, 84.93952941894531, 84.582275390625, 84.22936248779297, 83.88067626953125, 83.53607940673828, 83.19549560546875, 82.85888671875, 82.5262680053711, 82.19763946533203, 81.87306213378906, 81.55257415771484, 81.23627471923828, 80.92424011230469, 80.61656188964844, 80.31334686279297, 80.0146713256836, 79.72061920166016, 79.4312744140625, 79.14669799804688, 78.866943359375, 78.59203338623047, 78.32200622558594, 78.05684661865234, 77.79653930664062, 77.54103088378906, 77.29029846191406, 77.04425048828125, 76.80280303955078, 76.56587219238281, 76.33335876464844, 76.10515594482422, 75.88115692138672, 75.66124725341797, 75.44532012939453, 75.2332763671875, 75.02501678466797, 74.8204345703125, 74.61945343017578, 74.42198181152344, 74.22796630859375, 74.03731536865234]\n",
            "[1277.7562255859375, 1005.3156127929688, 784.4259643554688, 605.3086547851562, 465.3943176269531, 361.942138671875, 289.51068115234375, 240.76365661621094, 208.43495178222656, 186.71414184570312, 171.59510803222656, 160.5724639892578, 152.16419982910156, 145.5095672607422, 140.1007843017578, 135.62481689453125, 131.8761444091797, 128.7105255126953, 126.02080535888672, 123.72370910644531, 121.75269317626953, 120.05364990234375, 118.58206939697266, 117.3011245727539, 116.18024444580078, 115.19400024414062, 114.32115936279297, 113.5440444946289, 112.84780883789062, 112.22007751464844, 111.65045928955078, 111.13019561767578, 110.6519546508789, 110.20947265625, 109.79749298095703, 109.41156005859375, 109.0478515625, 108.70307159423828, 108.37442779541016, 108.05949401855469, 107.75617980957031, 107.46261596679688, 107.17724609375, 106.89865112304688, 106.62557983398438, 106.35697174072266, 106.09185028076172, 105.82935333251953, 105.56874084472656, 105.309326171875, 105.050537109375, 104.79185485839844, 104.5328140258789, 104.2730712890625, 104.01226806640625, 103.75019073486328, 103.48661041259766, 103.22140502929688, 102.9544677734375, 102.68577575683594, 102.41535186767578, 102.14325714111328, 101.86959838867188, 101.59452056884766, 101.31822967529297, 101.04093170166016, 100.76287841796875, 100.48433685302734, 100.2055892944336, 99.92691040039062, 99.64860534667969, 99.37098693847656, 99.09432220458984, 98.81890106201172, 98.54498291015625, 98.27284240722656, 98.00271606445312, 97.73481750488281, 97.46932983398438, 97.2064208984375, 96.94625091552734, 96.68891906738281, 96.43453216552734, 96.18312072753906, 95.93475341796875, 95.68943786621094, 95.44718170166016, 95.2079849243164, 94.97181701660156, 94.7386474609375, 94.50846862792969, 94.28126525878906, 94.05695343017578, 93.8355941772461, 93.61713409423828, 93.40156555175781, 93.18891143798828, 92.97916412353516, 92.7723159790039, 92.56841278076172]\n"
          ],
          "name": "stdout"
        }
      ]
    },
    {
      "cell_type": "markdown",
      "metadata": {
        "id": "uiHrDMfFFT2D"
      },
      "source": [
        "## MODEL 2"
      ]
    },
    {
      "cell_type": "code",
      "metadata": {
        "id": "OxLi2ZyrENc-",
        "outputId": "894ebf39-3807-4ac1-916f-f15e8a28b319",
        "colab": {
          "base_uri": "https://localhost:8080/",
          "height": 267
        }
      },
      "source": [
        "#create a d-3d-1 neural network with sigmoid activation function\n",
        "%%time\n",
        "\n",
        "time_callback = TimeHistory()\n",
        "\n",
        "history = History()\n",
        "\n",
        "model_c2 = Sequential()\n",
        "model_c2.add(Dense(24, input_dim = 8, activation = 'sigmoid'))\n",
        "model_c2.add(Dense(1))\n",
        "\n",
        "model_c2.compile(loss='mean_squared_error', optimizer='sgd')\n",
        "\n",
        "model_c2.fit(x_train, y_train, batch_size=721, epochs=200, verbose=0, callbacks=[history,time_callback],validation_data=(x_val,y_val))\n",
        "\n",
        "print(model_c2.summary())"
      ],
      "execution_count": null,
      "outputs": [
        {
          "output_type": "stream",
          "text": [
            "Model: \"sequential_13\"\n",
            "_________________________________________________________________\n",
            "Layer (type)                 Output Shape              Param #   \n",
            "=================================================================\n",
            "dense_36 (Dense)             (None, 24)                216       \n",
            "_________________________________________________________________\n",
            "dense_37 (Dense)             (None, 1)                 25        \n",
            "=================================================================\n",
            "Total params: 241\n",
            "Trainable params: 241\n",
            "Non-trainable params: 0\n",
            "_________________________________________________________________\n",
            "None\n",
            "CPU times: user 3.1 s, sys: 115 ms, total: 3.21 s\n",
            "Wall time: 3.01 s\n"
          ],
          "name": "stdout"
        }
      ]
    },
    {
      "cell_type": "code",
      "metadata": {
        "id": "nbZgILbmEZvJ",
        "outputId": "59126ed6-44d5-475e-b0cd-85766542770c",
        "colab": {
          "base_uri": "https://localhost:8080/",
          "height": 87
        }
      },
      "source": [
        "train_mse_c2 = history.history.get('loss')\n",
        "val_mse_c2 = history.history.get('val_loss')\n",
        "time_c2 = list(time_callback.times)\n",
        "print('Total time taken ',sum(time_c2))\n",
        "print(train_mse_c2)\n",
        "print(val_mse_c2)"
      ],
      "execution_count": null,
      "outputs": [
        {
          "output_type": "stream",
          "text": [
            "Total time taken  2.8603763580322266\n",
            "[1566.5413818359375, 1229.0245361328125, 970.5521240234375, 762.0014038085938, 593.6780395507812, 462.2606506347656, 364.6008605957031, 295.42437744140625, 247.9247589111328, 215.47230529785156, 192.8204345703125, 176.37493896484375, 163.889892578125, 154.0263671875, 145.99200439453125, 139.3050537109375, 133.6565399169922, 128.83502197265625, 124.68661499023438, 121.0936279296875, 117.9631118774414, 115.21980285644531, 112.80211639404297, 110.6591567993164, 108.74870300292969, 107.03553771972656, 105.49031066894531, 104.08841705322266, 102.80924987792969, 101.63546752929688, 100.5525131225586, 99.54808044433594, 98.61177062988281, 97.73478698730469, 96.90960693359375, 96.12992095947266, 95.39022064208984, 94.68584442138672, 94.0127944946289, 93.36759185791016, 92.74724578857422, 92.14916229248047, 91.57106018066406, 91.01100158691406, 90.46723175048828, 89.9382553100586, 89.4227294921875, 88.9195327758789, 88.42764282226562, 87.94618225097656, 87.47438049316406, 87.01160430908203, 86.55729675292969, 86.11099243164062, 85.67229461669922, 85.24089050292969, 84.81651306152344, 84.39897918701172, 83.98812103271484, 83.58381652832031, 83.18595886230469, 82.79450225830078, 82.40935516357422, 82.03050231933594, 81.65789031982422, 81.29145812988281, 80.93116760253906, 80.57695770263672, 80.22876739501953, 79.88652038574219, 79.5501480102539, 79.21956634521484, 78.8946533203125, 78.57534790039062, 78.26152801513672, 77.95311737060547, 77.64998626708984, 77.3520736694336, 77.05924224853516, 76.77142333984375, 76.488525390625, 76.21046447753906, 75.93717193603516, 75.6685562133789, 75.404541015625, 75.14510345458984, 74.89015197753906, 74.63961791992188, 74.39346313476562, 74.15164184570312, 73.91409301757812, 73.6807632446289, 73.45159149169922, 73.22654724121094, 73.00555419921875, 72.78856658935547, 72.57555389404297, 72.3664321899414, 72.16112518310547, 71.9596176147461, 71.7618179321289, 71.56765747070312, 71.3770751953125, 71.19000244140625, 71.0063705444336, 70.82609558105469, 70.64911651611328, 70.47534942626953, 70.30473327636719, 70.13716125488281, 69.97257232666016, 69.8108901977539, 69.65202331542969, 69.49590301513672, 69.34245300292969, 69.19158935546875, 69.0432357788086, 68.89730834960938, 68.75374603271484, 68.61246490478516, 68.47339630126953, 68.33647155761719, 68.20162200927734, 68.06875610351562, 67.9378433227539, 67.80880737304688, 67.68158721923828, 67.55611419677734, 67.43234252929688, 67.31021881103516, 67.1896743774414, 67.0706787109375, 66.95315551757812, 66.83708953857422, 66.72241973876953, 66.60910034179688, 66.49711608886719, 66.38639068603516, 66.27690124511719, 66.16863250732422, 66.0615234375, 65.95556640625, 65.85069274902344, 65.74691009521484, 65.64417266845703, 65.5424575805664, 65.44173431396484, 65.34197235107422, 65.24315643310547, 65.14527130126953, 65.04827117919922, 64.95214080810547, 64.85686492919922, 64.76242065429688, 64.66876983642578, 64.57591247558594, 64.48382568359375, 64.39248657226562, 64.30186462402344, 64.21195220947266, 64.12273406982422, 64.03418731689453, 63.9462890625, 63.85902786254883, 63.77238464355469, 63.686344146728516, 63.60088348388672, 63.5160026550293, 63.431671142578125, 63.34788513183594, 63.264610290527344, 63.181861877441406, 63.099605560302734, 63.0178337097168, 62.93653106689453, 62.85568618774414, 62.77528381347656, 62.6953239440918, 62.61578369140625, 62.53665542602539, 62.45793151855469, 62.37958908081055, 62.30164337158203, 62.224063873291016, 62.1468391418457, 62.069976806640625, 61.993473052978516, 61.91728591918945, 61.84143829345703, 61.76591873168945, 61.69070816040039, 61.615806579589844, 61.54121398925781, 61.466915130615234, 61.39291000366211, 61.31918716430664, 61.24574279785156, 61.17256164550781, 61.099666595458984, 61.02703094482422]\n",
            "[1259.978515625, 995.4635620117188, 780.7822265625, 606.4345092773438, 469.6215515136719, 367.7034606933594, 295.64544677734375, 246.56915283203125, 213.5782470703125, 191.10958862304688, 175.29298400878906, 163.67787170410156, 154.78892517089844, 147.75071716308594, 142.03504943847656, 137.3098602294922, 133.35455322265625, 130.0138397216797, 127.1725845336914, 124.74201202392578, 122.65167236328125, 120.84471130371094, 119.2745132446289, 117.90272521972656, 116.69754028320312, 115.63248443603516, 114.68553161621094, 113.83818817138672, 113.07501220703125, 112.38302612304688, 111.75132751464844, 111.17070007324219, 110.63339233398438, 110.13275909423828, 109.66327667236328, 109.22013854980469, 108.79930114746094, 108.39724731445312, 108.01104736328125, 107.63810729980469, 107.27619171142578, 106.92345428466797, 106.57820129394531, 106.23905181884766, 105.90477752685547, 105.5743637084961, 105.2469253540039, 104.92173767089844, 104.59819030761719, 104.27584075927734, 103.95428466796875, 103.63327026367188, 103.3125991821289, 102.99220275878906, 102.67205047607422, 102.3521957397461, 102.03269958496094, 101.7137222290039, 101.39543151855469, 101.0780258178711, 100.76168823242188, 100.44664001464844, 100.13307189941406, 99.82118225097656, 99.51113891601562, 99.2031021118164, 98.89718627929688, 98.59352111816406, 98.29217529296875, 97.99320983886719, 97.69664001464844, 97.40251922607422, 97.11087036132812, 96.82164764404297, 96.53488159179688, 96.25051879882812, 95.96855926513672, 95.68899536132812, 95.41179656982422, 95.13693237304688, 94.86441802978516, 94.59423828125, 94.32640075683594, 94.06087493896484, 93.7977066040039, 93.53685760498047, 93.27837371826172, 93.02227020263672, 92.76851654052734, 92.51718139648438, 92.26823425292969, 92.02172088623047, 91.77765655517578, 91.53604125976562, 91.29690551757812, 91.06027221679688, 90.82614135742188, 90.59455108642578, 90.36549377441406, 90.13898468017578, 89.91505432128906, 89.6937026977539, 89.47490692138672, 89.2586898803711, 89.04505157470703, 88.83396911621094, 88.62541961669922, 88.41939544677734, 88.21587371826172, 88.01481628417969, 87.81617736816406, 87.61994171142578, 87.42604064941406, 87.23442840576172, 87.04508209228516, 86.85792541503906, 86.67290496826172, 86.48995971679688, 86.30905151367188, 86.13011169433594, 85.95307922363281, 85.77791595458984, 85.60456085205078, 85.43294525146484, 85.26302337646484, 85.0947494506836, 84.92811584472656, 84.76302337646484, 84.59944915771484, 84.4373779296875, 84.27674102783203, 84.11753845214844, 83.95972442626953, 83.80326843261719, 83.64814758300781, 83.49436950683594, 83.34186553955078, 83.1906509399414, 83.04070281982422, 82.89200592041016, 82.74453735351562, 82.59830474853516, 82.45329284667969, 82.30947875976562, 82.16687774658203, 82.02540588378906, 81.88514709472656, 81.74605560302734, 81.60809326171875, 81.47128295898438, 81.33558654785156, 81.20100402832031, 81.06754302978516, 80.93514251708984, 80.80381774902344, 80.67355346679688, 80.54431915283203, 80.41610717773438, 80.28888702392578, 80.16263580322266, 80.03736114501953, 79.91300964355469, 79.78961181640625, 79.66709899902344, 79.54545593261719, 79.4246826171875, 79.30473327636719, 79.18560028076172, 79.0672836303711, 78.94971466064453, 78.83293151855469, 78.71685791015625, 78.60152435302734, 78.48685455322266, 78.37288665771484, 78.25956726074219, 78.14688873291016, 78.03484344482422, 77.92340087890625, 77.81255340576172, 77.70227813720703, 77.5925521850586, 77.4833755493164, 77.37472534179688, 77.26658630371094, 77.15896606445312, 77.05183410644531, 76.9451675415039, 76.83897399902344, 76.73322296142578, 76.62794494628906, 76.52307891845703, 76.41864776611328, 76.31460571289062, 76.21099090576172, 76.1077651977539, 76.00492095947266, 75.9024658203125, 75.80037689208984, 75.69865417480469]\n"
          ],
          "name": "stdout"
        }
      ]
    },
    {
      "cell_type": "markdown",
      "metadata": {
        "id": "EgSeGjTjFbC8"
      },
      "source": [
        "# MODEL 3"
      ]
    },
    {
      "cell_type": "code",
      "metadata": {
        "id": "C84fZPT-EgVN",
        "outputId": "6943bca3-7bef-41d5-d601-70662ac964e2",
        "colab": {
          "base_uri": "https://localhost:8080/",
          "height": 267
        }
      },
      "source": [
        "#create a d-3d-1 neural network with sigmoid activation function\n",
        "%%time\n",
        "\n",
        "time_callback = TimeHistory()\n",
        "\n",
        "history = History()\n",
        "\n",
        "model_c3 = Sequential()\n",
        "model_c3.add(Dense(24, input_dim = 8, activation = 'sigmoid'))\n",
        "model_c3.add(Dense(1))\n",
        "\n",
        "model_c3.compile(loss='mean_squared_error', optimizer='sgd')\n",
        "\n",
        "model_c3.fit(x_train, y_train, batch_size=721, epochs=300, verbose=0, callbacks=[history,time_callback],validation_data=(x_val,y_val))\n",
        "\n",
        "print(model_c3.summary())"
      ],
      "execution_count": null,
      "outputs": [
        {
          "output_type": "stream",
          "text": [
            "Model: \"sequential_15\"\n",
            "_________________________________________________________________\n",
            "Layer (type)                 Output Shape              Param #   \n",
            "=================================================================\n",
            "dense_40 (Dense)             (None, 24)                216       \n",
            "_________________________________________________________________\n",
            "dense_41 (Dense)             (None, 1)                 25        \n",
            "=================================================================\n",
            "Total params: 241\n",
            "Trainable params: 241\n",
            "Non-trainable params: 0\n",
            "_________________________________________________________________\n",
            "None\n",
            "CPU times: user 5.06 s, sys: 153 ms, total: 5.21 s\n",
            "Wall time: 4.87 s\n"
          ],
          "name": "stdout"
        }
      ]
    },
    {
      "cell_type": "code",
      "metadata": {
        "id": "ppOj4QRLE9I8",
        "outputId": "5ebd66b8-e827-4934-d453-7d8dc0f501d7",
        "colab": {
          "base_uri": "https://localhost:8080/",
          "height": 87
        }
      },
      "source": [
        "train_mse_c3 = history.history.get('loss')\n",
        "val_mse_c3 = history.history.get('val_loss')\n",
        "time_c3 = list(time_callback.times)\n",
        "print('Total time taken ',sum(time_c3))\n",
        "print(train_mse_c3)\n",
        "print(val_mse_c3)"
      ],
      "execution_count": null,
      "outputs": [
        {
          "output_type": "stream",
          "text": [
            "Total time taken  4.632232904434204\n",
            "[1573.88623046875, 1234.5303955078125, 974.993408203125, 765.24365234375, 595.6979370117188, 463.2929992675781, 364.97998046875, 295.45965576171875, 247.84039306640625, 215.39422607421875, 192.7991485595703, 176.41619873046875, 163.98028564453125, 154.149658203125, 146.13624572753906, 139.46376037597656, 133.82752990722656, 129.01878356933594, 124.8849868774414, 121.30899047851562, 118.19776916503906, 115.4759750366211, 113.08172607421875, 110.96392822265625, 109.08016204833984, 107.39513397216797, 105.87936401367188, 104.50827026367188, 103.26118469238281, 102.12085723876953, 101.07276153564453, 100.10466003417969, 99.20624542236328, 98.36880493164062, 97.5849380493164, 96.84837341308594, 96.15374755859375, 95.49649810791016, 94.87271118164062, 94.27903747558594, 93.71255493164062, 93.17074584960938, 92.65142059326172, 92.1527099609375, 91.67292785644531, 91.2105712890625, 90.764404296875, 90.33321380615234, 89.91602325439453, 89.51192474365234, 89.12007904052734, 88.73976135253906, 88.37030029296875, 88.01109313964844, 87.66159057617188, 87.32129669189453, 86.98973083496094, 86.6664810180664, 86.3511734008789, 86.04341125488281, 85.74285888671875, 85.44920349121094, 85.16212463378906, 84.88135528564453, 84.60661315917969, 84.33763122558594, 84.07415008544922, 83.81593322753906, 83.56273651123047, 83.31436920166016, 83.07058715820312, 82.83118438720703, 82.59595489501953, 82.36470794677734, 82.13725280761719, 81.91342163085938, 81.69302368164062, 81.47591400146484, 81.26191711425781, 81.05089569091797, 80.84272003173828, 80.6372299194336, 80.43431854248047, 80.23387908935547, 80.0357894897461, 79.8399429321289, 79.6462631225586, 79.45463562011719, 79.26502227783203, 79.07730865478516, 78.89144897460938, 78.70735931396484, 78.52497100830078, 78.34422302246094, 78.16509246826172, 77.98748779296875, 77.81134796142578, 77.63663482666016, 77.46330261230469, 77.29127502441406, 77.12051391601562, 76.95097351074219, 76.78257751464844, 76.61528778076172, 76.44905090332031, 76.28382110595703, 76.1195297241211, 75.9561538696289, 75.79362487792969, 75.63187408447266, 75.47088623046875, 75.31058502197266, 75.15093231201172, 74.99187469482422, 74.83335876464844, 74.67532348632812, 74.51773834228516, 74.36052703857422, 74.20362854003906, 74.0469970703125, 73.89057922363281, 73.73429870605469, 73.57811737060547, 73.42194366455078, 73.26576232910156, 73.10950469970703, 72.95313262939453, 72.79661560058594, 72.63990783691406, 72.48300170898438, 72.3259048461914, 72.16861724853516, 72.01116943359375, 71.85360717773438, 71.69600677490234, 71.53843688964844, 71.38101196289062, 71.22383117675781, 71.0670166015625, 70.91070556640625, 70.75502014160156, 70.60010528564453, 70.44606018066406, 70.29300689697266, 70.14103698730469, 69.99024200439453, 69.84069061279297, 69.69242858886719, 69.54548645019531, 69.39990234375, 69.25567626953125, 69.11282348632812, 68.97135162353516, 68.83121490478516, 68.69242858886719, 68.55496215820312, 68.4188003540039, 68.2839126586914, 68.15027618408203, 68.01789093017578, 67.8866958618164, 67.75668334960938, 67.62784576416016, 67.50012969970703, 67.37351989746094, 67.24801635742188, 67.12357330322266, 67.00017547607422, 66.87782287597656, 66.75647735595703, 66.63612365722656, 66.51675415039062, 66.3983383178711, 66.2808837890625, 66.16435241699219, 66.04873657226562, 65.93403625488281, 65.82023620605469, 65.70732116699219, 65.59526062011719, 65.48408508300781, 65.37374877929688, 65.26426696777344, 65.15560913085938, 65.04777526855469, 64.94075012207031, 64.83454132080078, 64.72911834716797, 64.6244888305664, 64.52062225341797, 64.41752624511719, 64.31517791748047, 64.21358489990234, 64.11271667480469, 64.01258087158203, 63.91315841674805, 63.81443405151367, 63.716400146484375, 63.619041442871094, 63.52235794067383, 63.426334381103516, 63.33095169067383, 63.236209869384766, 63.1420783996582, 63.04856491088867, 62.955650329589844, 62.863319396972656, 62.77157211303711, 62.680381774902344, 62.589752197265625, 62.49966049194336, 62.41010284423828, 62.32106399536133, 62.2325325012207, 62.14451599121094, 62.05697250366211, 61.969913482666016, 61.88332748413086, 61.79720687866211, 61.71153259277344, 61.62630081176758, 61.541500091552734, 61.45713424682617, 61.37318420410156, 61.28963088989258, 61.20649337768555, 61.12374496459961, 61.041385650634766, 60.95940399169922, 60.87779998779297, 60.79656982421875, 60.715694427490234, 60.63517379760742, 60.55500793457031, 60.475181579589844, 60.39570236206055, 60.316551208496094, 60.23773956298828, 60.15925216674805, 60.08108901977539, 60.003238677978516, 59.92570495605469, 59.84848403930664, 59.77157211303711, 59.69496154785156, 59.618656158447266, 59.542659759521484, 59.466957092285156, 59.39155197143555, 59.31644058227539, 59.24162292480469, 59.16709518432617, 59.092864990234375, 59.018924713134766, 58.94527816772461, 58.871910095214844, 58.798858642578125, 58.726070404052734, 58.65358352661133, 58.581390380859375, 58.50948715209961, 58.43787384033203, 58.366546630859375, 58.29552459716797, 58.22479248046875, 58.154354095458984, 58.08421325683594, 58.014373779296875, 57.944820404052734, 57.87556838989258, 57.80662155151367, 57.73797607421875, 57.66962814331055, 57.601585388183594, 57.533843994140625, 57.466407775878906, 57.39927291870117, 57.33244705200195, 57.26593017578125, 57.19969940185547, 57.13379669189453, 57.06819534301758, 57.00288772583008, 56.937896728515625, 56.87321853637695, 56.8088264465332, 56.7447509765625, 56.68097686767578, 56.61750793457031, 56.55435562133789, 56.49148941040039, 56.42893981933594, 56.366676330566406, 56.30473709106445, 56.24307632446289, 56.18173599243164, 56.12068557739258, 56.05994415283203, 55.99948501586914, 55.939334869384766]\n",
            "[1263.939208984375, 999.0625, 783.6175537109375, 608.35595703125, 470.8112487792969, 368.44769287109375, 296.1830139160156, 247.04234313964844, 214.04226684570312, 191.56614685058594, 175.7197723388672, 164.04946899414062, 155.08848571777344, 147.972900390625, 142.18435668945312, 137.3971405029297, 133.39381408691406, 130.01986694335938, 127.15962219238281, 124.72300720214844, 122.63806915283203, 120.84636688232422, 119.29993438720703, 117.959228515625, 116.79138946533203, 115.7691650390625, 114.86986541748047, 114.07449340820312, 113.36727905273438, 112.73493194580078, 112.16629791259766, 111.65210723876953, 111.18445587158203, 110.75672912597656, 110.36331939697266, 109.99946594238281, 109.6611557006836, 109.34490966796875, 109.04782104492188, 108.76737213134766, 108.50138854980469, 108.24803161621094, 108.0056381225586, 107.77288055419922, 107.54851531982422, 107.33153533935547, 107.12097930908203, 106.91606903076172, 106.71611022949219, 106.52047729492188, 106.32865905761719, 106.14016723632812, 105.95460510253906, 105.7716064453125, 105.59085083007812, 105.41201782226562, 105.23491668701172, 105.05928039550781, 104.88493347167969, 104.71166229248047, 104.53931427001953, 104.36774444580078, 104.1968002319336, 104.02633666992188, 103.85623168945312, 103.68637084960938, 103.51663970947266, 103.34693908691406, 103.17713165283203, 103.00717163085938, 102.83692932128906, 102.66633605957031, 102.49532318115234, 102.32380676269531, 102.15170288085938, 101.97901153564453, 101.80567932128906, 101.63163757324219, 101.45689392089844, 101.28141021728516, 101.1052017211914, 100.92826843261719, 100.7506103515625, 100.572265625, 100.39325714111328, 100.213623046875, 100.03338623046875, 99.85261535644531, 99.67134094238281, 99.48959350585938, 99.30746459960938, 99.1249771118164, 98.94216918945312, 98.75908660888672, 98.57577514648438, 98.39228057861328, 98.2085952758789, 98.02478790283203, 97.8408432006836, 97.65678405761719, 97.47264099121094, 97.28840637207031, 97.10408782958984, 96.91966247558594, 96.73513793945312, 96.55052947998047, 96.36579132080078, 96.18092346191406, 95.99588775634766, 95.81067657470703, 95.62523651123047, 95.43955993652344, 95.25360870361328, 95.06730651855469, 94.88064575195312, 94.69352722167969, 94.50592803955078, 94.3177490234375, 94.12895202636719, 93.9394302368164, 93.74911499023438, 93.55791473388672, 93.36575317382812, 93.17253112792969, 92.97819519042969, 92.7826156616211, 92.58576965332031, 92.38755798339844, 92.18794250488281, 91.98686981201172, 91.78433227539062, 91.58031463623047, 91.37483978271484, 91.16796875, 90.95975494384766, 90.75029754638672, 90.53973388671875, 90.32819366455078, 90.11588287353516, 89.90294647216797, 89.68962097167969, 89.47607421875, 89.26254272460938, 89.0492172241211, 88.83628845214844, 88.62391662597656, 88.41227722167969, 88.20149230957031, 87.99170684814453, 87.78300476074219, 87.57549285888672, 87.36919403076172, 87.1642074584961, 86.9605484008789, 86.75823211669922, 86.55728912353516, 86.35771179199219, 86.15953063964844, 85.96271514892578, 85.76725769042969, 85.57316589355469, 85.38041687011719, 85.18901824951172, 84.99893951416016, 84.8101806640625, 84.62273406982422, 84.43659973144531, 84.25177001953125, 84.0682373046875, 83.88601684570312, 83.70510864257812, 83.5255126953125, 83.34722900390625, 83.17029571533203, 82.99465942382812, 82.82038116455078, 82.6474609375, 82.47589874267578, 82.30567932128906, 82.13684844970703, 81.96939086914062, 81.80330657958984, 81.63861846923828, 81.47529602050781, 81.31336212158203, 81.15281677246094, 80.99365234375, 80.83584594726562, 80.67939758300781, 80.5243148803711, 80.37055969238281, 80.2181396484375, 80.06703186035156, 79.91720581054688, 79.76866149902344, 79.62138366699219, 79.47533416748047, 79.33050537109375, 79.18687438964844, 79.04440307617188, 78.90309143066406, 78.76287841796875, 78.62377166748047, 78.4857406616211, 78.34873962402344, 78.21276092529297, 78.0777816772461, 77.94376373291016, 77.8106918334961, 77.67854309082031, 77.54727172851562, 77.41688537597656, 77.28732299804688, 77.1585922241211, 77.03064727783203, 76.90348815917969, 76.77706909179688, 76.6513900756836, 76.52641296386719, 76.4021224975586, 76.27851104736328, 76.15556335449219, 76.0332260131836, 75.91151428222656, 75.7904052734375, 75.66987609863281, 75.5499267578125, 75.43052673339844, 75.3116683959961, 75.19334411621094, 75.07551574707031, 74.95821380615234, 74.84140014648438, 74.72505187988281, 74.60918426513672, 74.49378967285156, 74.37883758544922, 74.26434326171875, 74.15027618408203, 74.03665161132812, 73.9234390258789, 73.81066131591797, 73.69828033447266, 73.58631134033203, 73.47476959228516, 73.36360168457031, 73.25284576416016, 73.1424789428711, 73.03250885009766, 72.92292785644531, 72.81371307373047, 72.70491027832031, 72.59647369384766, 72.48844146728516, 72.38076782226562, 72.27349853515625, 72.16658782958984, 72.06008911132812, 71.95396423339844, 71.84822845458984, 71.74286651611328, 71.63790893554688, 71.5333251953125, 71.42913818359375, 71.3253402709961, 71.22193908691406, 71.11894226074219, 71.0163345336914, 70.91413116455078, 70.81232452392578, 70.71092224121094, 70.60993194580078, 70.50933837890625, 70.40916442871094, 70.30938720703125, 70.21004486083984, 70.11111450195312, 70.0125961303711, 69.91450500488281, 69.81683349609375, 69.7195816040039, 69.62276458740234, 69.5263671875, 69.43040466308594, 69.33488464355469, 69.23978424072266, 69.14513397216797, 69.05091094970703, 68.95714569091797, 68.86380004882812, 68.77091217041016, 68.67845916748047, 68.58647155761719, 68.49492645263672, 68.40383911132812, 68.31320190429688, 68.22303009033203, 68.13330841064453, 68.04407501220703, 67.95528411865234]\n"
          ],
          "name": "stdout"
        }
      ]
    },
    {
      "cell_type": "markdown",
      "metadata": {
        "id": "xmYJNihZFo6h"
      },
      "source": [
        "Now we can evaluate the performance of each model with increasing epochs. "
      ]
    },
    {
      "cell_type": "code",
      "metadata": {
        "id": "1C2yKTZGIIWB",
        "outputId": "c527c46e-0787-46cd-cb86-96ee13e7e89e",
        "colab": {
          "base_uri": "https://localhost:8080/",
          "height": 33
        }
      },
      "source": [
        "parameters = [model_c1.count_params(), model_c2.count_params(), model_c3.count_params()]\n",
        "parameters"
      ],
      "execution_count": null,
      "outputs": [
        {
          "output_type": "execute_result",
          "data": {
            "text/plain": [
              "[241, 241, 241]"
            ]
          },
          "metadata": {
            "tags": []
          },
          "execution_count": 45
        }
      ]
    },
    {
      "cell_type": "code",
      "metadata": {
        "id": "GLShA_rYFFhl",
        "outputId": "c0a6007d-e459-406e-ed5b-180478ce82eb",
        "colab": {
          "base_uri": "https://localhost:8080/",
          "height": 33
        }
      },
      "source": [
        "computation = [100*241, 200*241, 300*241]\n",
        "computation"
      ],
      "execution_count": null,
      "outputs": [
        {
          "output_type": "execute_result",
          "data": {
            "text/plain": [
              "[24100, 48200, 72300]"
            ]
          },
          "metadata": {
            "tags": []
          },
          "execution_count": 46
        }
      ]
    },
    {
      "cell_type": "code",
      "metadata": {
        "id": "8sAhW4TL497i",
        "outputId": "efacd652-2197-4509-d384-4d91430d9557",
        "colab": {
          "base_uri": "https://localhost:8080/",
          "height": 33
        }
      },
      "source": [
        "print([val_mse_c1[-1],val_mse_c2[-1],val_mse_c3[-1]])"
      ],
      "execution_count": null,
      "outputs": [
        {
          "output_type": "stream",
          "text": [
            "[92.56841278076172, 75.69865417480469, 67.95528411865234]\n"
          ],
          "name": "stdout"
        }
      ]
    },
    {
      "cell_type": "code",
      "metadata": {
        "id": "Oxm1kGZFJjF8",
        "outputId": "914376c1-3259-41f4-b899-801f3cec38f9",
        "colab": {
          "base_uri": "https://localhost:8080/",
          "height": 279
        }
      },
      "source": [
        "y = computation\n",
        "\n",
        "z = [val_mse_c1[-1],val_mse_c2[-1],val_mse_c3[-1]]\n",
        "n = ['model_c1', 'model_c2', 'model_c3']\n",
        "\n",
        "fig, ax = plt.subplots()\n",
        "ax.scatter(z, y)\n",
        "plt.ylabel('Cost of computation')\n",
        "plt.xlabel('MSE')\n",
        "\n",
        "for i, txt in enumerate(n):\n",
        "    ax.annotate(txt, (z[i], y[i]))"
      ],
      "execution_count": null,
      "outputs": [
        {
          "output_type": "display_data",
          "data": {
            "image/png": "[encoded data removed]",
            "text/plain": [
              "<Figure size 432x288 with 1 Axes>"
            ]
          },
          "metadata": {
            "tags": [],
            "needs_background": "light"
          }
        }
      ]
    },
    {
      "cell_type": "markdown",
      "metadata": {
        "id": "2Su75hZUfelC"
      },
      "source": [
        "The above graph shows that the model with most cost of computation is able to achieve the least MSE. This means that for this problem statement increasing the complexity of the model might learn new patterns and can decrease the loss (MSE). "
      ]
    },
    {
      "cell_type": "markdown",
      "metadata": {
        "id": "eVwJDrADiDaB"
      },
      "source": [
        "**Conclusion:**\n",
        "\n",
        "**Effect of number of neurons:**\n",
        "\n",
        "For this problem statement (dataset), as we increase the number of weights the model is able to achieve lower MSE. However the selection of the nodes is completely dependent on the problem statement.\n",
        "\n",
        "\n",
        "**Effect of hidden layers:**\n",
        "\n",
        "Increasing the number of hidden layers might or might not increase the performance of the model. This is dependent on the complexity of the problem. In this problem the model was able to converge with less number of epochs and less number of hidden layers. Thus, it proves that the problem taken for this specific assignment is not very complex. Also, increasing the number of layers in the neural network increases the computation cost of the network. \n",
        "\n",
        "\n",
        "**COST OF COMPUTATION AND PERFORMANCE**\n",
        "\n",
        "For this specific problem time elapsed to build the model is low for models with less number of layers but shows promising results when we change/increase the neurons. The cost of computation (epochs*parameters) shows that the model with higher computation (more epochs) is able to perform better when compared to the models with lesser epochs for this problem statement. However, the time elapsed and the cost of computation might vary with different problem statement.  \n",
        "\n",
        "\n"
      ]
    },
    {
      "cell_type": "markdown",
      "metadata": {
        "id": "JoCadUqN7zLw"
      },
      "source": [
        "![WhatsApp Image 2020-09-29 at 4.07.22 AM.jpeg](data:image/jpeg;base64,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)"
      ]
    },
    {
      "cell_type": "markdown",
      "metadata": {
        "id": "3d32wH0hA_XJ"
      },
      "source": [
        "REFERENCES: https://archive.ics.uci.edu/ml/datasets/concrete+compressive+strength\n",
        "\n",
        "\n",
        "https://keras.io/getting_started/"
      ]
    },
    {
      "cell_type": "code",
      "metadata": {
        "id": "edRkDo9ZKcVi"
      },
      "source": [
        ""
      ],
      "execution_count": null,
      "outputs": []
    }
  ]
}